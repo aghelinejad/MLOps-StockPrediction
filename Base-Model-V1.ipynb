{
 "cells": [
  {
   "cell_type": "code",
   "execution_count": 1,
   "metadata": {},
   "outputs": [],
   "source": [
    "import pandas as pd\n",
    "import numpy as np\n",
    "import matplotlib.pyplot as plt\n",
    "import seaborn as sns"
   ]
  },
  {
   "cell_type": "code",
   "execution_count": 2,
   "metadata": {},
   "outputs": [],
   "source": [
    "import yfinance as yf"
   ]
  },
  {
   "cell_type": "code",
   "execution_count": 3,
   "metadata": {},
   "outputs": [],
   "source": [
    "# data for S&P500\n",
    "ticker = yf.Ticker('^GSPC')\n",
    "\n",
    "SP500_df = ticker.history(period=\"max\", interval='1d')"
   ]
  },
  {
   "cell_type": "code",
   "execution_count": 4,
   "metadata": {},
   "outputs": [
    {
     "data": {
      "text/plain": [
       "Text(0, 0.5, 'Stock Price')"
      ]
     },
     "execution_count": 4,
     "metadata": {},
     "output_type": "execute_result"
    },
    {
     "data": {
      "image/png": "[encoded data removed]",
      "text/plain": [
       "<Figure size 936x360 with 1 Axes>"
      ]
     },
     "metadata": {
      "needs_background": "light"
     },
     "output_type": "display_data"
    }
   ],
   "source": [
    "plt.figure(figsize=(13, 5))\n",
    "SP500_df['Close'].plot(title=\"S&P500's stock price\")\n",
    "plt.xlabel('Date')\n",
    "plt.ylabel('Stock Price')"
   ]
  },
  {
   "cell_type": "code",
   "execution_count": 5,
   "metadata": {},
   "outputs": [
    {
     "data": {
      "text/html": [
       "<div>\n",
       "<style scoped>\n",
       "    .dataframe tbody tr th:only-of-type {\n",
       "        vertical-align: middle;\n",
       "    }\n",
       "\n",
       "    .dataframe tbody tr th {\n",
       "        vertical-align: top;\n",
       "    }\n",
       "\n",
       "    .dataframe thead th {\n",
       "        text-align: right;\n",
       "    }\n",
       "</style>\n",
       "<table border=\"1\" class=\"dataframe\">\n",
       "  <thead>\n",
       "    <tr style=\"text-align: right;\">\n",
       "      <th></th>\n",
       "      <th>Open</th>\n",
       "      <th>High</th>\n",
       "      <th>Low</th>\n",
       "      <th>Close</th>\n",
       "      <th>Volume</th>\n",
       "      <th>Dividends</th>\n",
       "      <th>Stock Splits</th>\n",
       "    </tr>\n",
       "    <tr>\n",
       "      <th>Date</th>\n",
       "      <th></th>\n",
       "      <th></th>\n",
       "      <th></th>\n",
       "      <th></th>\n",
       "      <th></th>\n",
       "      <th></th>\n",
       "      <th></th>\n",
       "    </tr>\n",
       "  </thead>\n",
       "  <tbody>\n",
       "    <tr>\n",
       "      <th>1927-12-30</th>\n",
       "      <td>17.66</td>\n",
       "      <td>17.66</td>\n",
       "      <td>17.66</td>\n",
       "      <td>17.66</td>\n",
       "      <td>0</td>\n",
       "      <td>0</td>\n",
       "      <td>0</td>\n",
       "    </tr>\n",
       "    <tr>\n",
       "      <th>1928-01-03</th>\n",
       "      <td>17.76</td>\n",
       "      <td>17.76</td>\n",
       "      <td>17.76</td>\n",
       "      <td>17.76</td>\n",
       "      <td>0</td>\n",
       "      <td>0</td>\n",
       "      <td>0</td>\n",
       "    </tr>\n",
       "    <tr>\n",
       "      <th>1928-01-04</th>\n",
       "      <td>17.72</td>\n",
       "      <td>17.72</td>\n",
       "      <td>17.72</td>\n",
       "      <td>17.72</td>\n",
       "      <td>0</td>\n",
       "      <td>0</td>\n",
       "      <td>0</td>\n",
       "    </tr>\n",
       "    <tr>\n",
       "      <th>1928-01-05</th>\n",
       "      <td>17.55</td>\n",
       "      <td>17.55</td>\n",
       "      <td>17.55</td>\n",
       "      <td>17.55</td>\n",
       "      <td>0</td>\n",
       "      <td>0</td>\n",
       "      <td>0</td>\n",
       "    </tr>\n",
       "    <tr>\n",
       "      <th>1928-01-06</th>\n",
       "      <td>17.66</td>\n",
       "      <td>17.66</td>\n",
       "      <td>17.66</td>\n",
       "      <td>17.66</td>\n",
       "      <td>0</td>\n",
       "      <td>0</td>\n",
       "      <td>0</td>\n",
       "    </tr>\n",
       "  </tbody>\n",
       "</table>\n",
       "</div>"
      ],
      "text/plain": [
       "             Open   High    Low  Close  Volume  Dividends  Stock Splits\n",
       "Date                                                                   \n",
       "1927-12-30  17.66  17.66  17.66  17.66       0          0             0\n",
       "1928-01-03  17.76  17.76  17.76  17.76       0          0             0\n",
       "1928-01-04  17.72  17.72  17.72  17.72       0          0             0\n",
       "1928-01-05  17.55  17.55  17.55  17.55       0          0             0\n",
       "1928-01-06  17.66  17.66  17.66  17.66       0          0             0"
      ]
     },
     "execution_count": 5,
     "metadata": {},
     "output_type": "execute_result"
    }
   ],
   "source": [
    "SP500_df.head()"
   ]
  },
  {
   "cell_type": "code",
   "execution_count": 6,
   "metadata": {},
   "outputs": [
    {
     "data": {
      "text/html": [
       "<div>\n",
       "<style scoped>\n",
       "    .dataframe tbody tr th:only-of-type {\n",
       "        vertical-align: middle;\n",
       "    }\n",
       "\n",
       "    .dataframe tbody tr th {\n",
       "        vertical-align: top;\n",
       "    }\n",
       "\n",
       "    .dataframe thead th {\n",
       "        text-align: right;\n",
       "    }\n",
       "</style>\n",
       "<table border=\"1\" class=\"dataframe\">\n",
       "  <thead>\n",
       "    <tr style=\"text-align: right;\">\n",
       "      <th></th>\n",
       "      <th>Open</th>\n",
       "      <th>High</th>\n",
       "      <th>Low</th>\n",
       "      <th>Close</th>\n",
       "      <th>Volume</th>\n",
       "      <th>Dividends</th>\n",
       "      <th>Stock Splits</th>\n",
       "    </tr>\n",
       "    <tr>\n",
       "      <th>Date</th>\n",
       "      <th></th>\n",
       "      <th></th>\n",
       "      <th></th>\n",
       "      <th></th>\n",
       "      <th></th>\n",
       "      <th></th>\n",
       "      <th></th>\n",
       "    </tr>\n",
       "  </thead>\n",
       "  <tbody>\n",
       "    <tr>\n",
       "      <th>2020-07-31</th>\n",
       "      <td>3270.45</td>\n",
       "      <td>3272.17</td>\n",
       "      <td>3220.26</td>\n",
       "      <td>3271.12</td>\n",
       "      <td>5117260000</td>\n",
       "      <td>0</td>\n",
       "      <td>0</td>\n",
       "    </tr>\n",
       "    <tr>\n",
       "      <th>2020-08-03</th>\n",
       "      <td>3288.26</td>\n",
       "      <td>3302.73</td>\n",
       "      <td>3284.53</td>\n",
       "      <td>3294.61</td>\n",
       "      <td>4643640000</td>\n",
       "      <td>0</td>\n",
       "      <td>0</td>\n",
       "    </tr>\n",
       "    <tr>\n",
       "      <th>2020-08-04</th>\n",
       "      <td>3289.92</td>\n",
       "      <td>3306.84</td>\n",
       "      <td>3286.37</td>\n",
       "      <td>3306.51</td>\n",
       "      <td>4621670000</td>\n",
       "      <td>0</td>\n",
       "      <td>0</td>\n",
       "    </tr>\n",
       "    <tr>\n",
       "      <th>2020-08-05</th>\n",
       "      <td>3317.37</td>\n",
       "      <td>3330.77</td>\n",
       "      <td>3317.37</td>\n",
       "      <td>3327.77</td>\n",
       "      <td>4732220000</td>\n",
       "      <td>0</td>\n",
       "      <td>0</td>\n",
       "    </tr>\n",
       "    <tr>\n",
       "      <th>2020-08-06</th>\n",
       "      <td>3323.17</td>\n",
       "      <td>3351.03</td>\n",
       "      <td>3318.14</td>\n",
       "      <td>3349.16</td>\n",
       "      <td>2414278723</td>\n",
       "      <td>0</td>\n",
       "      <td>0</td>\n",
       "    </tr>\n",
       "  </tbody>\n",
       "</table>\n",
       "</div>"
      ],
      "text/plain": [
       "               Open     High      Low    Close      Volume  Dividends  \\\n",
       "Date                                                                    \n",
       "2020-07-31  3270.45  3272.17  3220.26  3271.12  5117260000          0   \n",
       "2020-08-03  3288.26  3302.73  3284.53  3294.61  4643640000          0   \n",
       "2020-08-04  3289.92  3306.84  3286.37  3306.51  4621670000          0   \n",
       "2020-08-05  3317.37  3330.77  3317.37  3327.77  4732220000          0   \n",
       "2020-08-06  3323.17  3351.03  3318.14  3349.16  2414278723          0   \n",
       "\n",
       "            Stock Splits  \n",
       "Date                      \n",
       "2020-07-31             0  \n",
       "2020-08-03             0  \n",
       "2020-08-04             0  \n",
       "2020-08-05             0  \n",
       "2020-08-06             0  "
      ]
     },
     "execution_count": 6,
     "metadata": {},
     "output_type": "execute_result"
    }
   ],
   "source": [
    "SP500_df.tail()"
   ]
  },
  {
   "cell_type": "code",
   "execution_count": 7,
   "metadata": {},
   "outputs": [
    {
     "data": {
      "text/plain": [
       "(23260, 7)"
      ]
     },
     "execution_count": 7,
     "metadata": {},
     "output_type": "execute_result"
    }
   ],
   "source": [
    "SP500_df.shape"
   ]
  },
  {
   "cell_type": "code",
   "execution_count": 8,
   "metadata": {},
   "outputs": [
    {
     "name": "stdout",
     "output_type": "stream",
     "text": [
      "<class 'pandas.core.frame.DataFrame'>\n",
      "DatetimeIndex: 23260 entries, 1927-12-30 to 2020-08-06\n",
      "Data columns (total 7 columns):\n",
      " #   Column        Non-Null Count  Dtype  \n",
      "---  ------        --------------  -----  \n",
      " 0   Open          23260 non-null  float64\n",
      " 1   High          23260 non-null  float64\n",
      " 2   Low           23260 non-null  float64\n",
      " 3   Close         23260 non-null  float64\n",
      " 4   Volume        23260 non-null  int64  \n",
      " 5   Dividends     23260 non-null  int64  \n",
      " 6   Stock Splits  23260 non-null  int64  \n",
      "dtypes: float64(4), int64(3)\n",
      "memory usage: 1.4 MB\n"
     ]
    }
   ],
   "source": [
    "SP500_df.info()"
   ]
  },
  {
   "cell_type": "code",
   "execution_count": 9,
   "metadata": {},
   "outputs": [
    {
     "data": {
      "text/html": [
       "<div>\n",
       "<style scoped>\n",
       "    .dataframe tbody tr th:only-of-type {\n",
       "        vertical-align: middle;\n",
       "    }\n",
       "\n",
       "    .dataframe tbody tr th {\n",
       "        vertical-align: top;\n",
       "    }\n",
       "\n",
       "    .dataframe thead th {\n",
       "        text-align: right;\n",
       "    }\n",
       "</style>\n",
       "<table border=\"1\" class=\"dataframe\">\n",
       "  <thead>\n",
       "    <tr style=\"text-align: right;\">\n",
       "      <th></th>\n",
       "      <th>Open</th>\n",
       "      <th>High</th>\n",
       "      <th>Low</th>\n",
       "      <th>Close</th>\n",
       "      <th>Volume</th>\n",
       "      <th>Dividends</th>\n",
       "      <th>Stock Splits</th>\n",
       "    </tr>\n",
       "  </thead>\n",
       "  <tbody>\n",
       "    <tr>\n",
       "      <th>count</th>\n",
       "      <td>23260.000000</td>\n",
       "      <td>23260.000000</td>\n",
       "      <td>23260.000000</td>\n",
       "      <td>23260.000000</td>\n",
       "      <td>2.326000e+04</td>\n",
       "      <td>23260.0</td>\n",
       "      <td>23260.0</td>\n",
       "    </tr>\n",
       "    <tr>\n",
       "      <th>mean</th>\n",
       "      <td>478.937092</td>\n",
       "      <td>481.752575</td>\n",
       "      <td>475.937768</td>\n",
       "      <td>479.038887</td>\n",
       "      <td>7.599377e+08</td>\n",
       "      <td>0.0</td>\n",
       "      <td>0.0</td>\n",
       "    </tr>\n",
       "    <tr>\n",
       "      <th>std</th>\n",
       "      <td>711.158543</td>\n",
       "      <td>714.960392</td>\n",
       "      <td>707.002488</td>\n",
       "      <td>711.272077</td>\n",
       "      <td>1.475980e+09</td>\n",
       "      <td>0.0</td>\n",
       "      <td>0.0</td>\n",
       "    </tr>\n",
       "    <tr>\n",
       "      <th>min</th>\n",
       "      <td>4.400000</td>\n",
       "      <td>4.400000</td>\n",
       "      <td>4.400000</td>\n",
       "      <td>4.400000</td>\n",
       "      <td>0.000000e+00</td>\n",
       "      <td>0.0</td>\n",
       "      <td>0.0</td>\n",
       "    </tr>\n",
       "    <tr>\n",
       "      <th>25%</th>\n",
       "      <td>23.800000</td>\n",
       "      <td>23.800000</td>\n",
       "      <td>23.800000</td>\n",
       "      <td>23.800000</td>\n",
       "      <td>1.260000e+06</td>\n",
       "      <td>0.0</td>\n",
       "      <td>0.0</td>\n",
       "    </tr>\n",
       "    <tr>\n",
       "      <th>50%</th>\n",
       "      <td>99.320000</td>\n",
       "      <td>100.120000</td>\n",
       "      <td>98.565000</td>\n",
       "      <td>99.330000</td>\n",
       "      <td>1.708000e+07</td>\n",
       "      <td>0.0</td>\n",
       "      <td>0.0</td>\n",
       "    </tr>\n",
       "    <tr>\n",
       "      <th>75%</th>\n",
       "      <td>812.610000</td>\n",
       "      <td>826.120000</td>\n",
       "      <td>804.217500</td>\n",
       "      <td>813.140000</td>\n",
       "      <td>5.182400e+08</td>\n",
       "      <td>0.0</td>\n",
       "      <td>0.0</td>\n",
       "    </tr>\n",
       "    <tr>\n",
       "      <th>max</th>\n",
       "      <td>3380.450000</td>\n",
       "      <td>3393.520000</td>\n",
       "      <td>3378.830000</td>\n",
       "      <td>3386.150000</td>\n",
       "      <td>1.145623e+10</td>\n",
       "      <td>0.0</td>\n",
       "      <td>0.0</td>\n",
       "    </tr>\n",
       "  </tbody>\n",
       "</table>\n",
       "</div>"
      ],
      "text/plain": [
       "               Open          High           Low         Close        Volume  \\\n",
       "count  23260.000000  23260.000000  23260.000000  23260.000000  2.326000e+04   \n",
       "mean     478.937092    481.752575    475.937768    479.038887  7.599377e+08   \n",
       "std      711.158543    714.960392    707.002488    711.272077  1.475980e+09   \n",
       "min        4.400000      4.400000      4.400000      4.400000  0.000000e+00   \n",
       "25%       23.800000     23.800000     23.800000     23.800000  1.260000e+06   \n",
       "50%       99.320000    100.120000     98.565000     99.330000  1.708000e+07   \n",
       "75%      812.610000    826.120000    804.217500    813.140000  5.182400e+08   \n",
       "max     3380.450000   3393.520000   3378.830000   3386.150000  1.145623e+10   \n",
       "\n",
       "       Dividends  Stock Splits  \n",
       "count    23260.0       23260.0  \n",
       "mean         0.0           0.0  \n",
       "std          0.0           0.0  \n",
       "min          0.0           0.0  \n",
       "25%          0.0           0.0  \n",
       "50%          0.0           0.0  \n",
       "75%          0.0           0.0  \n",
       "max          0.0           0.0  "
      ]
     },
     "execution_count": 9,
     "metadata": {},
     "output_type": "execute_result"
    }
   ],
   "source": [
    "SP500_df.describe()"
   ]
  },
  {
   "cell_type": "code",
   "execution_count": 10,
   "metadata": {},
   "outputs": [
    {
     "data": {
      "text/html": [
       "<div>\n",
       "<style scoped>\n",
       "    .dataframe tbody tr th:only-of-type {\n",
       "        vertical-align: middle;\n",
       "    }\n",
       "\n",
       "    .dataframe tbody tr th {\n",
       "        vertical-align: top;\n",
       "    }\n",
       "\n",
       "    .dataframe thead th {\n",
       "        text-align: right;\n",
       "    }\n",
       "</style>\n",
       "<table border=\"1\" class=\"dataframe\">\n",
       "  <thead>\n",
       "    <tr style=\"text-align: right;\">\n",
       "      <th></th>\n",
       "      <th>Open</th>\n",
       "      <th>High</th>\n",
       "      <th>Low</th>\n",
       "      <th>Close</th>\n",
       "      <th>Volume</th>\n",
       "    </tr>\n",
       "  </thead>\n",
       "  <tbody>\n",
       "    <tr>\n",
       "      <th>Open</th>\n",
       "      <td>1.000000</td>\n",
       "      <td>0.999972</td>\n",
       "      <td>0.999958</td>\n",
       "      <td>0.999930</td>\n",
       "      <td>0.819787</td>\n",
       "    </tr>\n",
       "    <tr>\n",
       "      <th>High</th>\n",
       "      <td>0.999972</td>\n",
       "      <td>1.000000</td>\n",
       "      <td>0.999941</td>\n",
       "      <td>0.999963</td>\n",
       "      <td>0.820751</td>\n",
       "    </tr>\n",
       "    <tr>\n",
       "      <th>Low</th>\n",
       "      <td>0.999958</td>\n",
       "      <td>0.999941</td>\n",
       "      <td>1.000000</td>\n",
       "      <td>0.999965</td>\n",
       "      <td>0.818435</td>\n",
       "    </tr>\n",
       "    <tr>\n",
       "      <th>Close</th>\n",
       "      <td>0.999930</td>\n",
       "      <td>0.999963</td>\n",
       "      <td>0.999965</td>\n",
       "      <td>1.000000</td>\n",
       "      <td>0.819575</td>\n",
       "    </tr>\n",
       "    <tr>\n",
       "      <th>Volume</th>\n",
       "      <td>0.819787</td>\n",
       "      <td>0.820751</td>\n",
       "      <td>0.818435</td>\n",
       "      <td>0.819575</td>\n",
       "      <td>1.000000</td>\n",
       "    </tr>\n",
       "  </tbody>\n",
       "</table>\n",
       "</div>"
      ],
      "text/plain": [
       "            Open      High       Low     Close    Volume\n",
       "Open    1.000000  0.999972  0.999958  0.999930  0.819787\n",
       "High    0.999972  1.000000  0.999941  0.999963  0.820751\n",
       "Low     0.999958  0.999941  1.000000  0.999965  0.818435\n",
       "Close   0.999930  0.999963  0.999965  1.000000  0.819575\n",
       "Volume  0.819787  0.820751  0.818435  0.819575  1.000000"
      ]
     },
     "execution_count": 10,
     "metadata": {},
     "output_type": "execute_result"
    }
   ],
   "source": [
    "SP500_df.drop(columns=['Dividends', 'Stock Splits'], inplace=True)\n",
    "SP500_df.corr()"
   ]
  },
  {
   "cell_type": "code",
   "execution_count": 11,
   "metadata": {},
   "outputs": [],
   "source": [
    "# train-test splitting\n",
    "train_data = SP500_df['Open'].values[:-90]\n",
    "test_data = SP500_df['Open'].values[-90:]"
   ]
  },
  {
   "cell_type": "code",
   "execution_count": 12,
   "metadata": {},
   "outputs": [],
   "source": [
    "# data preprocessing\n",
    "train = train_data.reshape(-1, 1)\n",
    "\n",
    "from sklearn.preprocessing import MinMaxScaler\n",
    "scaler = MinMaxScaler()\n",
    "train = scaler.fit_transform(train)\n",
    "\n",
    "# prepare training dataset for 60 timesteps\n",
    "x_train = []\n",
    "y_train = []\n",
    "\n",
    "for i in range(train.shape[0]-60):\n",
    "    x_train.append(train[i:i+60, 0])\n",
    "    y_train.append(train[i+60, 0])\n",
    "    \n",
    "x_train = np.array(x_train)\n",
    "y_train = np.array(y_train)\n",
    "\n",
    "x_train = np.reshape(x_train, newshape=(x_train.shape[0], x_train.shape[1], 1))"
   ]
  },
  {
   "cell_type": "code",
   "execution_count": 13,
   "metadata": {},
   "outputs": [
    {
     "data": {
      "text/plain": [
       "(23110, 60, 1)"
      ]
     },
     "execution_count": 13,
     "metadata": {},
     "output_type": "execute_result"
    }
   ],
   "source": [
    "x_train.shape"
   ]
  },
  {
   "cell_type": "code",
   "execution_count": 14,
   "metadata": {},
   "outputs": [],
   "source": [
    "from tensorflow.keras.models import Sequential\n",
    "from tensorflow.keras.layers import LSTM, Dense, Dropout\n",
    "from tensorflow.keras import metrics"
   ]
  },
  {
   "cell_type": "code",
   "execution_count": 17,
   "metadata": {},
   "outputs": [],
   "source": [
    "model = Sequential()\n",
    "\n",
    "# model.add(LSTM(units=50, return_sequences=True, input_shape=(x_train.shape[1], 1)))\n",
    "model.add(LSTM(units=50, return_sequences=True))\n",
    "model.add(Dropout(rate=0.1))\n",
    "\n",
    "model.add(LSTM(units=50, return_sequences=True))\n",
    "model.add(Dropout(rate=0.1))\n",
    "\n",
    "model.add(LSTM(units=50, return_sequences=False))\n",
    "model.add(Dropout(rate=0.1))\n",
    "\n",
    "model.add(Dense(units=1))\n",
    "# model.summary()\n",
    "model.compile(optimizer='adam', loss='mean_squared_error', metrics=[metrics.mae])"
   ]
  },
  {
   "cell_type": "code",
   "execution_count": 18,
   "metadata": {},
   "outputs": [
    {
     "name": "stdout",
     "output_type": "stream",
     "text": [
      "Train on 23110 samples\n",
      "Epoch 1/3\n",
      "23110/23110 [==============================] - 64s 3ms/sample - loss: 0.0013 - mean_absolute_error: 0.0148\n",
      "Epoch 2/3\n",
      "23110/23110 [==============================] - 56s 2ms/sample - loss: 3.1332e-04 - mean_absolute_error: 0.0092\n",
      "Epoch 3/3\n",
      "23110/23110 [==============================] - 65s 3ms/sample - loss: 3.0193e-04 - mean_absolute_error: 0.0090\n"
     ]
    },
    {
     "data": {
      "text/plain": [
       "<tensorflow.python.keras.callbacks.History at 0x270b13db7c8>"
      ]
     },
     "execution_count": 18,
     "metadata": {},
     "output_type": "execute_result"
    }
   ],
   "source": [
    "model.fit(x_train, y_train, batch_size=64, epochs=3, verbose=1)"
   ]
  },
  {
   "cell_type": "code",
   "execution_count": 19,
   "metadata": {},
   "outputs": [
    {
     "data": {
      "text/plain": [
       "<matplotlib.axes._subplots.AxesSubplot at 0x270b9c5da48>"
      ]
     },
     "execution_count": 19,
     "metadata": {},
     "output_type": "execute_result"
    },
    {
     "data": {
      "image/png": "[encoded data removed]",
      "text/plain": [
       "<Figure size 432x288 with 1 Axes>"
      ]
     },
     "metadata": {
      "needs_background": "light"
     },
     "output_type": "display_data"
    }
   ],
   "source": [
    "losses = pd.DataFrame(model.history.history)\n",
    "losses.plot()"
   ]
  },
  {
   "cell_type": "code",
   "execution_count": 20,
   "metadata": {},
   "outputs": [],
   "source": [
    "# # hyperparameter tuning\n",
    "# from tensorflow.keras.wrappers.scikit_learn import KerasRegressor\n",
    "\n",
    "# def create_model(l=4, n=50, r=0.1, opt='rmsprop'):\n",
    "#     model = Sequential()\n",
    "#     for j in range(l):\n",
    "#         model.add(LSTM(units=n, return_sequences=True))\n",
    "#         model.add(Dropout(rate=r))\n",
    "#     model.add(Dense(units=1))\n",
    "#     model.compile(optimizer=opt, loss='mean_squared_error', metrics=[metrics.mae])\n",
    "#     return model\n",
    "    \n",
    "# model = KerasRegressor(build_fn=create_model, epochs=6, batch_size=32)\n",
    "\n",
    "# from sklearn.model_selection import RandomizedSearchCV\n",
    "\n",
    "# parameters = dict(n=[40, 50, 60, 70, 80],\n",
    "#                   r=[0.1, 0.3, 0.5],\n",
    "#                   l=[3, 4, 5, 6],\n",
    "#                   batch_size=[32, 64, 128],\n",
    "#                   opt=['sgd', 'rmsprop', 'adam'])\n",
    "\n",
    "# tuner = RandomizedSearchCV(model, param_distributions=parameters, cv=3, n_iter=10, n_jobs=-1, verbose=1)\n",
    "\n",
    "# tuned_results = tuner.fit(x_train, y_train)\n",
    "\n",
    "\n",
    "# # summarize results\n",
    "# print(\"Best: %f using %s\" % (tuned_results.best_score_, tuned_results.best_params_))\n",
    "\n",
    "# means = tuned_results.cv_results_['mean_test_score']\n",
    "# stds = tuned_results.cv_results_['std_test_score']\n",
    "# params = tuned_results.cv_results_['params']\n",
    "# # for mean, stdev, param in zip(means, stds, params):\n",
    "# #     print(\"%f (%f) with: %r\" % (mean, stdev, param))"
   ]
  },
  {
   "cell_type": "code",
   "execution_count": 22,
   "metadata": {},
   "outputs": [],
   "source": [
    "total_data = SP500_df['Open'].values.reshape(-1, 1)\n",
    "\n",
    "total_data = scaler.transform(total_data)\n",
    "\n",
    "x_test = []\n",
    "for i in range(len(test_data)):\n",
    "    x_test.append(total_data[i-len(test_data)-60:i-len(test_data), 0])\n",
    "\n",
    "x_test = np.array(x_test)\n",
    "x_test = np.reshape(x_test, newshape=(x_test.shape[0], x_test.shape[1], 1))"
   ]
  },
  {
   "cell_type": "code",
   "execution_count": 23,
   "metadata": {},
   "outputs": [],
   "source": [
    "y_true = test_data.reshape(-1, 1)\n",
    "y_test = scaler.transform(y_true)\n",
    "\n",
    "predictions = model.predict(x_test)\n",
    "predictions = scaler.inverse_transform(predictions)"
   ]
  },
  {
   "cell_type": "code",
   "execution_count": 24,
   "metadata": {},
   "outputs": [
    {
     "name": "stdout",
     "output_type": "stream",
     "text": [
      "139.16\n",
      "3010.838888888888\n"
     ]
    }
   ],
   "source": [
    "from sklearn.metrics import mean_squared_error\n",
    "RMSE = round(np.sqrt(mean_squared_error(y_true, predictions)), 2)\n",
    "print(RMSE)\n",
    "# print(y_true.mean())"
   ]
  },
  {
   "cell_type": "code",
   "execution_count": 25,
   "metadata": {},
   "outputs": [
    {
     "name": "stdout",
     "output_type": "stream",
     "text": [
      "90/90 [==============================] - 1s 9ms/sample - loss: 0.0017 - mean_absolute_error: 0.0361\n"
     ]
    },
    {
     "data": {
      "text/plain": [
       "[0.001699175483857592, 0.036129232]"
      ]
     },
     "execution_count": 25,
     "metadata": {},
     "output_type": "execute_result"
    }
   ],
   "source": [
    "model.evaluate(x_test, y_test)"
   ]
  },
  {
   "cell_type": "code",
   "execution_count": 26,
   "metadata": {},
   "outputs": [
    {
     "data": {
      "image/png": "[encoded data removed]",
      "text/plain": [
       "<Figure size 432x288 with 1 Axes>"
      ]
     },
     "metadata": {
      "needs_background": "light"
     },
     "output_type": "display_data"
    }
   ],
   "source": [
    "plt.plot(predictions, color='red', label='Predicted Price')\n",
    "plt.plot(y_true, color='blue', label='Real Price')\n",
    "plt.xlabel('No of Days')\n",
    "plt.ylabel('Stock Price')\n",
    "plt.legend()\n",
    "plt.show()"
   ]
  },
  {
   "cell_type": "code",
   "execution_count": null,
   "metadata": {},
   "outputs": [],
   "source": [
    "# Save model\n",
    "import joblib\n",
    "from tensorflow.keras.models import save_model\n",
    "\n",
    "model.save(\"Base_model.h5\")\n",
    "print(\"Model dumped!\")"
   ]
  },
  {
   "cell_type": "code",
   "execution_count": null,
   "metadata": {},
   "outputs": [],
   "source": []
  }
 ],
 "metadata": {
  "kernelspec": {
   "display_name": "tensorflow",
   "language": "python",
   "name": "tensorflow"
  },
  "language_info": {
   "codemirror_mode": {
    "name": "ipython",
    "version": 3
   },
   "file_extension": ".py",
   "mimetype": "text/x-python",
   "name": "python",
   "nbconvert_exporter": "python",
   "pygments_lexer": "ipython3",
   "version": "3.7.6"
  }
 },
 "nbformat": 4,
 "nbformat_minor": 4
}
