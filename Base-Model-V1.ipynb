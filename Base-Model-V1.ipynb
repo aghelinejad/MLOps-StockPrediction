{
 "cells": [
  {
   "cell_type": "code",
   "execution_count": 4,
   "metadata": {},
   "outputs": [],
   "source": [
    "import pandas as pd\n",
    "import numpy as np\n",
    "import matplotlib.pyplot as plt\n",
    "import seaborn as sns"
   ]
  },
  {
   "cell_type": "code",
   "execution_count": 5,
   "metadata": {},
   "outputs": [],
   "source": [
    "import yfinance as yf"
   ]
  },
  {
   "cell_type": "code",
   "execution_count": 54,
   "metadata": {},
   "outputs": [
    {
     "data": {
      "text/plain": [
       "Text(0, 0.5, 'Stock Price')"
      ]
     },
     "execution_count": 54,
     "metadata": {},
     "output_type": "execute_result"
    },
    {
     "data": {
      "image/png": "[encoded data removed]",
      "text/plain": [
       "<Figure size 936x360 with 1 Axes>"
      ]
     },
     "metadata": {
      "needs_background": "light"
     },
     "output_type": "display_data"
    }
   ],
   "source": [
    "# data for S&P500\n",
    "# ticker = yf.Ticker('^GSPC')\n",
    "\n",
    "# SP500_df = ticker.history(period=\"max\", interval='1d')\n",
    "\n",
    "plt.figure(figsize=(13, 5))\n",
    "SP500_df['Close'].plot(title=\"S&P500's stock price\")\n",
    "plt.xlabel('Date')\n",
    "plt.ylabel('Stock Price')"
   ]
  },
  {
   "cell_type": "code",
   "execution_count": 7,
   "metadata": {},
   "outputs": [
    {
     "data": {
      "text/html": [
       "<div>\n",
       "<style scoped>\n",
       "    .dataframe tbody tr th:only-of-type {\n",
       "        vertical-align: middle;\n",
       "    }\n",
       "\n",
       "    .dataframe tbody tr th {\n",
       "        vertical-align: top;\n",
       "    }\n",
       "\n",
       "    .dataframe thead th {\n",
       "        text-align: right;\n",
       "    }\n",
       "</style>\n",
       "<table border=\"1\" class=\"dataframe\">\n",
       "  <thead>\n",
       "    <tr style=\"text-align: right;\">\n",
       "      <th></th>\n",
       "      <th>Open</th>\n",
       "      <th>High</th>\n",
       "      <th>Low</th>\n",
       "      <th>Close</th>\n",
       "      <th>Volume</th>\n",
       "      <th>Dividends</th>\n",
       "      <th>Stock Splits</th>\n",
       "    </tr>\n",
       "    <tr>\n",
       "      <th>Date</th>\n",
       "      <th></th>\n",
       "      <th></th>\n",
       "      <th></th>\n",
       "      <th></th>\n",
       "      <th></th>\n",
       "      <th></th>\n",
       "      <th></th>\n",
       "    </tr>\n",
       "  </thead>\n",
       "  <tbody>\n",
       "    <tr>\n",
       "      <th>1927-12-30</th>\n",
       "      <td>17.66</td>\n",
       "      <td>17.66</td>\n",
       "      <td>17.66</td>\n",
       "      <td>17.66</td>\n",
       "      <td>0</td>\n",
       "      <td>0</td>\n",
       "      <td>0</td>\n",
       "    </tr>\n",
       "    <tr>\n",
       "      <th>1928-01-03</th>\n",
       "      <td>17.76</td>\n",
       "      <td>17.76</td>\n",
       "      <td>17.76</td>\n",
       "      <td>17.76</td>\n",
       "      <td>0</td>\n",
       "      <td>0</td>\n",
       "      <td>0</td>\n",
       "    </tr>\n",
       "    <tr>\n",
       "      <th>1928-01-04</th>\n",
       "      <td>17.72</td>\n",
       "      <td>17.72</td>\n",
       "      <td>17.72</td>\n",
       "      <td>17.72</td>\n",
       "      <td>0</td>\n",
       "      <td>0</td>\n",
       "      <td>0</td>\n",
       "    </tr>\n",
       "    <tr>\n",
       "      <th>1928-01-05</th>\n",
       "      <td>17.55</td>\n",
       "      <td>17.55</td>\n",
       "      <td>17.55</td>\n",
       "      <td>17.55</td>\n",
       "      <td>0</td>\n",
       "      <td>0</td>\n",
       "      <td>0</td>\n",
       "    </tr>\n",
       "    <tr>\n",
       "      <th>1928-01-06</th>\n",
       "      <td>17.66</td>\n",
       "      <td>17.66</td>\n",
       "      <td>17.66</td>\n",
       "      <td>17.66</td>\n",
       "      <td>0</td>\n",
       "      <td>0</td>\n",
       "      <td>0</td>\n",
       "    </tr>\n",
       "  </tbody>\n",
       "</table>\n",
       "</div>"
      ],
      "text/plain": [
       "             Open   High    Low  Close  Volume  Dividends  Stock Splits\n",
       "Date                                                                   \n",
       "1927-12-30  17.66  17.66  17.66  17.66       0          0             0\n",
       "1928-01-03  17.76  17.76  17.76  17.76       0          0             0\n",
       "1928-01-04  17.72  17.72  17.72  17.72       0          0             0\n",
       "1928-01-05  17.55  17.55  17.55  17.55       0          0             0\n",
       "1928-01-06  17.66  17.66  17.66  17.66       0          0             0"
      ]
     },
     "execution_count": 7,
     "metadata": {},
     "output_type": "execute_result"
    }
   ],
   "source": [
    "SP500_df.head()"
   ]
  },
  {
   "cell_type": "code",
   "execution_count": 8,
   "metadata": {},
   "outputs": [
    {
     "data": {
      "text/html": [
       "<div>\n",
       "<style scoped>\n",
       "    .dataframe tbody tr th:only-of-type {\n",
       "        vertical-align: middle;\n",
       "    }\n",
       "\n",
       "    .dataframe tbody tr th {\n",
       "        vertical-align: top;\n",
       "    }\n",
       "\n",
       "    .dataframe thead th {\n",
       "        text-align: right;\n",
       "    }\n",
       "</style>\n",
       "<table border=\"1\" class=\"dataframe\">\n",
       "  <thead>\n",
       "    <tr style=\"text-align: right;\">\n",
       "      <th></th>\n",
       "      <th>Open</th>\n",
       "      <th>High</th>\n",
       "      <th>Low</th>\n",
       "      <th>Close</th>\n",
       "      <th>Volume</th>\n",
       "      <th>Dividends</th>\n",
       "      <th>Stock Splits</th>\n",
       "    </tr>\n",
       "    <tr>\n",
       "      <th>Date</th>\n",
       "      <th></th>\n",
       "      <th></th>\n",
       "      <th></th>\n",
       "      <th></th>\n",
       "      <th></th>\n",
       "      <th></th>\n",
       "      <th></th>\n",
       "    </tr>\n",
       "  </thead>\n",
       "  <tbody>\n",
       "    <tr>\n",
       "      <th>2020-07-20</th>\n",
       "      <td>3224.29</td>\n",
       "      <td>3258.61</td>\n",
       "      <td>3215.16</td>\n",
       "      <td>3251.84</td>\n",
       "      <td>3971200000</td>\n",
       "      <td>0</td>\n",
       "      <td>0</td>\n",
       "    </tr>\n",
       "    <tr>\n",
       "      <th>2020-07-21</th>\n",
       "      <td>3268.52</td>\n",
       "      <td>3277.29</td>\n",
       "      <td>3247.77</td>\n",
       "      <td>3257.30</td>\n",
       "      <td>4547960000</td>\n",
       "      <td>0</td>\n",
       "      <td>0</td>\n",
       "    </tr>\n",
       "    <tr>\n",
       "      <th>2020-07-22</th>\n",
       "      <td>3254.86</td>\n",
       "      <td>3279.32</td>\n",
       "      <td>3253.10</td>\n",
       "      <td>3276.02</td>\n",
       "      <td>4255190000</td>\n",
       "      <td>0</td>\n",
       "      <td>0</td>\n",
       "    </tr>\n",
       "    <tr>\n",
       "      <th>2020-07-23</th>\n",
       "      <td>3271.64</td>\n",
       "      <td>3279.99</td>\n",
       "      <td>3222.66</td>\n",
       "      <td>3235.66</td>\n",
       "      <td>4290460000</td>\n",
       "      <td>0</td>\n",
       "      <td>0</td>\n",
       "    </tr>\n",
       "    <tr>\n",
       "      <th>2020-07-24</th>\n",
       "      <td>3218.58</td>\n",
       "      <td>3227.26</td>\n",
       "      <td>3200.05</td>\n",
       "      <td>3215.63</td>\n",
       "      <td>3894900000</td>\n",
       "      <td>0</td>\n",
       "      <td>0</td>\n",
       "    </tr>\n",
       "  </tbody>\n",
       "</table>\n",
       "</div>"
      ],
      "text/plain": [
       "               Open     High      Low    Close      Volume  Dividends  \\\n",
       "Date                                                                    \n",
       "2020-07-20  3224.29  3258.61  3215.16  3251.84  3971200000          0   \n",
       "2020-07-21  3268.52  3277.29  3247.77  3257.30  4547960000          0   \n",
       "2020-07-22  3254.86  3279.32  3253.10  3276.02  4255190000          0   \n",
       "2020-07-23  3271.64  3279.99  3222.66  3235.66  4290460000          0   \n",
       "2020-07-24  3218.58  3227.26  3200.05  3215.63  3894900000          0   \n",
       "\n",
       "            Stock Splits  \n",
       "Date                      \n",
       "2020-07-20             0  \n",
       "2020-07-21             0  \n",
       "2020-07-22             0  \n",
       "2020-07-23             0  \n",
       "2020-07-24             0  "
      ]
     },
     "execution_count": 8,
     "metadata": {},
     "output_type": "execute_result"
    }
   ],
   "source": [
    "SP500_df.tail()"
   ]
  },
  {
   "cell_type": "code",
   "execution_count": 9,
   "metadata": {},
   "outputs": [
    {
     "data": {
      "text/plain": [
       "(23251, 7)"
      ]
     },
     "execution_count": 9,
     "metadata": {},
     "output_type": "execute_result"
    }
   ],
   "source": [
    "SP500_df.shape"
   ]
  },
  {
   "cell_type": "code",
   "execution_count": 10,
   "metadata": {},
   "outputs": [
    {
     "name": "stdout",
     "output_type": "stream",
     "text": [
      "<class 'pandas.core.frame.DataFrame'>\n",
      "DatetimeIndex: 23251 entries, 1927-12-30 to 2020-07-24\n",
      "Data columns (total 7 columns):\n",
      " #   Column        Non-Null Count  Dtype  \n",
      "---  ------        --------------  -----  \n",
      " 0   Open          23251 non-null  float64\n",
      " 1   High          23251 non-null  float64\n",
      " 2   Low           23251 non-null  float64\n",
      " 3   Close         23251 non-null  float64\n",
      " 4   Volume        23251 non-null  int64  \n",
      " 5   Dividends     23251 non-null  int64  \n",
      " 6   Stock Splits  23251 non-null  int64  \n",
      "dtypes: float64(4), int64(3)\n",
      "memory usage: 1.4 MB\n"
     ]
    }
   ],
   "source": [
    "SP500_df.info()"
   ]
  },
  {
   "cell_type": "code",
   "execution_count": 11,
   "metadata": {},
   "outputs": [
    {
     "data": {
      "text/html": [
       "<div>\n",
       "<style scoped>\n",
       "    .dataframe tbody tr th:only-of-type {\n",
       "        vertical-align: middle;\n",
       "    }\n",
       "\n",
       "    .dataframe tbody tr th {\n",
       "        vertical-align: top;\n",
       "    }\n",
       "\n",
       "    .dataframe thead th {\n",
       "        text-align: right;\n",
       "    }\n",
       "</style>\n",
       "<table border=\"1\" class=\"dataframe\">\n",
       "  <thead>\n",
       "    <tr style=\"text-align: right;\">\n",
       "      <th></th>\n",
       "      <th>Open</th>\n",
       "      <th>High</th>\n",
       "      <th>Low</th>\n",
       "      <th>Close</th>\n",
       "      <th>Volume</th>\n",
       "      <th>Dividends</th>\n",
       "      <th>Stock Splits</th>\n",
       "    </tr>\n",
       "  </thead>\n",
       "  <tbody>\n",
       "    <tr>\n",
       "      <th>count</th>\n",
       "      <td>23251.000000</td>\n",
       "      <td>23251.000000</td>\n",
       "      <td>23251.00000</td>\n",
       "      <td>23251.000000</td>\n",
       "      <td>2.325100e+04</td>\n",
       "      <td>23251.0</td>\n",
       "      <td>23251.0</td>\n",
       "    </tr>\n",
       "    <tr>\n",
       "      <th>mean</th>\n",
       "      <td>477.857921</td>\n",
       "      <td>480.667521</td>\n",
       "      <td>474.86233</td>\n",
       "      <td>477.955049</td>\n",
       "      <td>7.585781e+08</td>\n",
       "      <td>0.0</td>\n",
       "      <td>0.0</td>\n",
       "    </tr>\n",
       "    <tr>\n",
       "      <th>std</th>\n",
       "      <td>709.176770</td>\n",
       "      <td>712.967594</td>\n",
       "      <td>705.02202</td>\n",
       "      <td>709.272205</td>\n",
       "      <td>1.474574e+09</td>\n",
       "      <td>0.0</td>\n",
       "      <td>0.0</td>\n",
       "    </tr>\n",
       "    <tr>\n",
       "      <th>min</th>\n",
       "      <td>4.400000</td>\n",
       "      <td>4.400000</td>\n",
       "      <td>4.40000</td>\n",
       "      <td>4.400000</td>\n",
       "      <td>0.000000e+00</td>\n",
       "      <td>0.0</td>\n",
       "      <td>0.0</td>\n",
       "    </tr>\n",
       "    <tr>\n",
       "      <th>25%</th>\n",
       "      <td>23.790000</td>\n",
       "      <td>23.790000</td>\n",
       "      <td>23.79000</td>\n",
       "      <td>23.790000</td>\n",
       "      <td>1.260000e+06</td>\n",
       "      <td>0.0</td>\n",
       "      <td>0.0</td>\n",
       "    </tr>\n",
       "    <tr>\n",
       "      <th>50%</th>\n",
       "      <td>99.320000</td>\n",
       "      <td>100.090000</td>\n",
       "      <td>98.53000</td>\n",
       "      <td>99.320000</td>\n",
       "      <td>1.706000e+07</td>\n",
       "      <td>0.0</td>\n",
       "      <td>0.0</td>\n",
       "    </tr>\n",
       "    <tr>\n",
       "      <th>75%</th>\n",
       "      <td>807.980000</td>\n",
       "      <td>816.985000</td>\n",
       "      <td>800.32500</td>\n",
       "      <td>809.380000</td>\n",
       "      <td>5.145400e+08</td>\n",
       "      <td>0.0</td>\n",
       "      <td>0.0</td>\n",
       "    </tr>\n",
       "    <tr>\n",
       "      <th>max</th>\n",
       "      <td>3380.450000</td>\n",
       "      <td>3393.520000</td>\n",
       "      <td>3378.83000</td>\n",
       "      <td>3386.150000</td>\n",
       "      <td>1.145623e+10</td>\n",
       "      <td>0.0</td>\n",
       "      <td>0.0</td>\n",
       "    </tr>\n",
       "  </tbody>\n",
       "</table>\n",
       "</div>"
      ],
      "text/plain": [
       "               Open          High          Low         Close        Volume  \\\n",
       "count  23251.000000  23251.000000  23251.00000  23251.000000  2.325100e+04   \n",
       "mean     477.857921    480.667521    474.86233    477.955049  7.585781e+08   \n",
       "std      709.176770    712.967594    705.02202    709.272205  1.474574e+09   \n",
       "min        4.400000      4.400000      4.40000      4.400000  0.000000e+00   \n",
       "25%       23.790000     23.790000     23.79000     23.790000  1.260000e+06   \n",
       "50%       99.320000    100.090000     98.53000     99.320000  1.706000e+07   \n",
       "75%      807.980000    816.985000    800.32500    809.380000  5.145400e+08   \n",
       "max     3380.450000   3393.520000   3378.83000   3386.150000  1.145623e+10   \n",
       "\n",
       "       Dividends  Stock Splits  \n",
       "count    23251.0       23251.0  \n",
       "mean         0.0           0.0  \n",
       "std          0.0           0.0  \n",
       "min          0.0           0.0  \n",
       "25%          0.0           0.0  \n",
       "50%          0.0           0.0  \n",
       "75%          0.0           0.0  \n",
       "max          0.0           0.0  "
      ]
     },
     "execution_count": 11,
     "metadata": {},
     "output_type": "execute_result"
    }
   ],
   "source": [
    "SP500_df.describe()"
   ]
  },
  {
   "cell_type": "code",
   "execution_count": 12,
   "metadata": {},
   "outputs": [
    {
     "data": {
      "text/html": [
       "<div>\n",
       "<style scoped>\n",
       "    .dataframe tbody tr th:only-of-type {\n",
       "        vertical-align: middle;\n",
       "    }\n",
       "\n",
       "    .dataframe tbody tr th {\n",
       "        vertical-align: top;\n",
       "    }\n",
       "\n",
       "    .dataframe thead th {\n",
       "        text-align: right;\n",
       "    }\n",
       "</style>\n",
       "<table border=\"1\" class=\"dataframe\">\n",
       "  <thead>\n",
       "    <tr style=\"text-align: right;\">\n",
       "      <th></th>\n",
       "      <th>Open</th>\n",
       "      <th>High</th>\n",
       "      <th>Low</th>\n",
       "      <th>Close</th>\n",
       "      <th>Volume</th>\n",
       "    </tr>\n",
       "  </thead>\n",
       "  <tbody>\n",
       "    <tr>\n",
       "      <th>Open</th>\n",
       "      <td>1.000000</td>\n",
       "      <td>0.999971</td>\n",
       "      <td>0.999958</td>\n",
       "      <td>0.999930</td>\n",
       "      <td>0.819556</td>\n",
       "    </tr>\n",
       "    <tr>\n",
       "      <th>High</th>\n",
       "      <td>0.999971</td>\n",
       "      <td>1.000000</td>\n",
       "      <td>0.999941</td>\n",
       "      <td>0.999963</td>\n",
       "      <td>0.820526</td>\n",
       "    </tr>\n",
       "    <tr>\n",
       "      <th>Low</th>\n",
       "      <td>0.999958</td>\n",
       "      <td>0.999941</td>\n",
       "      <td>1.000000</td>\n",
       "      <td>0.999965</td>\n",
       "      <td>0.818203</td>\n",
       "    </tr>\n",
       "    <tr>\n",
       "      <th>Close</th>\n",
       "      <td>0.999930</td>\n",
       "      <td>0.999963</td>\n",
       "      <td>0.999965</td>\n",
       "      <td>1.000000</td>\n",
       "      <td>0.819349</td>\n",
       "    </tr>\n",
       "    <tr>\n",
       "      <th>Volume</th>\n",
       "      <td>0.819556</td>\n",
       "      <td>0.820526</td>\n",
       "      <td>0.818203</td>\n",
       "      <td>0.819349</td>\n",
       "      <td>1.000000</td>\n",
       "    </tr>\n",
       "  </tbody>\n",
       "</table>\n",
       "</div>"
      ],
      "text/plain": [
       "            Open      High       Low     Close    Volume\n",
       "Open    1.000000  0.999971  0.999958  0.999930  0.819556\n",
       "High    0.999971  1.000000  0.999941  0.999963  0.820526\n",
       "Low     0.999958  0.999941  1.000000  0.999965  0.818203\n",
       "Close   0.999930  0.999963  0.999965  1.000000  0.819349\n",
       "Volume  0.819556  0.820526  0.818203  0.819349  1.000000"
      ]
     },
     "execution_count": 12,
     "metadata": {},
     "output_type": "execute_result"
    }
   ],
   "source": [
    "SP500_df.drop(columns=['Dividends', 'Stock Splits'], inplace=True)\n",
    "SP500_df.corr()"
   ]
  },
  {
   "cell_type": "code",
   "execution_count": 36,
   "metadata": {},
   "outputs": [],
   "source": [
    "# train-test splitting\n",
    "train_data = SP500_df['Open'].values[:-120]\n",
    "test_data = SP500_df['Open'].values[-120:]"
   ]
  },
  {
   "cell_type": "code",
   "execution_count": 38,
   "metadata": {},
   "outputs": [],
   "source": [
    "# data preprocessing\n",
    "train = train_data.reshape(-1, 1)\n",
    "\n",
    "from sklearn.preprocessing import MinMaxScaler\n",
    "scaler = MinMaxScaler()\n",
    "train = scaler.fit_transform(train)\n",
    "\n",
    "# prepare training dataset for 60 timesteps\n",
    "x_train = []\n",
    "y_train = []\n",
    "\n",
    "for i in range(train.shape[0]-60):\n",
    "    x_train.append(train[i:i+60, 0])\n",
    "    y_train.append(train[i+60, 0])\n",
    "    \n",
    "x_train = np.array(x_train)\n",
    "y_train = np.array(y_train)\n",
    "\n",
    "x_train = np.reshape(x_train, newshape=(x_train.shape[0], x_train.shape[1], 1))"
   ]
  },
  {
   "cell_type": "code",
   "execution_count": 39,
   "metadata": {},
   "outputs": [
    {
     "data": {
      "text/plain": [
       "(23071, 60, 1)"
      ]
     },
     "execution_count": 39,
     "metadata": {},
     "output_type": "execute_result"
    }
   ],
   "source": [
    "x_train.shape"
   ]
  },
  {
   "cell_type": "code",
   "execution_count": 40,
   "metadata": {},
   "outputs": [],
   "source": [
    "from tensorflow.keras.models import Sequential\n",
    "from tensorflow.keras.layers import LSTM, Dense, Dropout\n",
    "from tensorflow.keras import metrics"
   ]
  },
  {
   "cell_type": "code",
   "execution_count": 41,
   "metadata": {},
   "outputs": [],
   "source": [
    "model = Sequential()\n",
    "\n",
    "# model.add(LSTM(units=50, return_sequences=True, input_shape=(x_train.shape[1], 1)))\n",
    "model.add(LSTM(units=70, return_sequences=True))\n",
    "model.add(Dropout(rate=0.1))\n",
    "\n",
    "model.add(LSTM(units=70, return_sequences=True))\n",
    "model.add(Dropout(rate=0.1))\n",
    "\n",
    "model.add(LSTM(units=70, return_sequences=False))\n",
    "model.add(Dropout(rate=0.1))\n",
    "\n",
    "model.add(Dense(units=1))\n",
    "# model.summary()\n",
    "model.compile(optimizer='adam', loss='mean_squared_error', metrics=[metrics.mae])"
   ]
  },
  {
   "cell_type": "code",
   "execution_count": 42,
   "metadata": {},
   "outputs": [
    {
     "name": "stdout",
     "output_type": "stream",
     "text": [
      "Train on 23071 samples\n",
      "Epoch 1/10\n",
      "23071/23071 [==============================] - 89s 4ms/sample - loss: 9.8227e-04 - mean_absolute_error: 0.0122\n",
      "Epoch 2/10\n",
      "23071/23071 [==============================] - 97s 4ms/sample - loss: 2.6270e-04 - mean_absolute_error: 0.0085\n",
      "Epoch 3/10\n",
      "23071/23071 [==============================] - 101s 4ms/sample - loss: 2.4769e-04 - mean_absolute_error: 0.0084\n",
      "Epoch 4/10\n",
      "23071/23071 [==============================] - 100s 4ms/sample - loss: 1.9865e-04 - mean_absolute_error: 0.0076\n",
      "Epoch 5/10\n",
      "23071/23071 [==============================] - 98s 4ms/sample - loss: 1.9718e-04 - mean_absolute_error: 0.0078\n",
      "Epoch 6/10\n",
      "23071/23071 [==============================] - 88s 4ms/sample - loss: 1.7324e-04 - mean_absolute_error: 0.0074\n",
      "Epoch 7/10\n",
      "23071/23071 [==============================] - 86s 4ms/sample - loss: 1.7919e-04 - mean_absolute_error: 0.0077\n",
      "Epoch 8/10\n",
      "23071/23071 [==============================] - 86s 4ms/sample - loss: 1.7077e-04 - mean_absolute_error: 0.0077\n",
      "Epoch 9/10\n",
      "23071/23071 [==============================] - 87s 4ms/sample - loss: 1.5326e-04 - mean_absolute_error: 0.0074\n",
      "Epoch 10/10\n",
      "23071/23071 [==============================] - 88s 4ms/sample - loss: 1.5685e-04 - mean_absolute_error: 0.0075\n"
     ]
    },
    {
     "data": {
      "text/plain": [
       "<tensorflow.python.keras.callbacks.History at 0x1f86ae28b48>"
      ]
     },
     "execution_count": 42,
     "metadata": {},
     "output_type": "execute_result"
    }
   ],
   "source": [
    "model.fit(x_train, y_train, batch_size=64, epochs=10, verbose=1)"
   ]
  },
  {
   "cell_type": "code",
   "execution_count": 43,
   "metadata": {},
   "outputs": [
    {
     "data": {
      "text/plain": [
       "<matplotlib.axes._subplots.AxesSubplot at 0x1f86c479448>"
      ]
     },
     "execution_count": 43,
     "metadata": {},
     "output_type": "execute_result"
    },
    {
     "data": {
      "image/png": "[encoded data removed]",
      "text/plain": [
       "<Figure size 432x288 with 1 Axes>"
      ]
     },
     "metadata": {
      "needs_background": "light"
     },
     "output_type": "display_data"
    }
   ],
   "source": [
    "losses = pd.DataFrame(model.history.history)\n",
    "losses.plot()"
   ]
  },
  {
   "cell_type": "code",
   "execution_count": 20,
   "metadata": {},
   "outputs": [],
   "source": [
    "# from tensorflow.keras.wrappers.scikit_learn import KerasRegressor\n",
    "\n",
    "# def create_model(l=4, n=50, r=0.1, opt='rmsprop'):\n",
    "#     model = Sequential()\n",
    "#     for j in range(l):\n",
    "#         model.add(LSTM(units=n, return_sequences=True))\n",
    "#         model.add(Dropout(rate=r))\n",
    "#     model.add(Dense(units=1))\n",
    "#     model.compile(optimizer=opt, loss='mean_squared_error', metrics=[metrics.mae])\n",
    "#     return model\n",
    "    \n",
    "# model = KerasRegressor(build_fn=create_model, epochs=6, batch_size=32)\n",
    "\n",
    "# from sklearn.model_selection import RandomizedSearchCV\n",
    "\n",
    "# parameters = dict(n=[40, 50, 60, 70, 80],\n",
    "#                   r=[0.1, 0.3, 0.5],\n",
    "#                   l=[3, 4, 5, 6],\n",
    "#                   batch_size=[32, 64, 128],\n",
    "#                   opt=['sgd', 'rmsprop', 'adam'])\n",
    "\n",
    "# tuner = RandomizedSearchCV(model, param_distributions=parameters, cv=3, n_iter=10, n_jobs=-1, verbose=1)\n",
    "\n",
    "# tuned_results = tuner.fit(x_train, y_train)"
   ]
  },
  {
   "cell_type": "code",
   "execution_count": 21,
   "metadata": {},
   "outputs": [],
   "source": [
    "# # summarize results\n",
    "# print(\"Best: %f using %s\" % (tuned_results.best_score_, tuned_results.best_params_))\n",
    "\n",
    "# means = tuned_results.cv_results_['mean_test_score']\n",
    "# stds = tuned_results.cv_results_['std_test_score']\n",
    "# params = tuned_results.cv_results_['params']\n",
    "# # for mean, stdev, param in zip(means, stds, params):\n",
    "# #     print(\"%f (%f) with: %r\" % (mean, stdev, param))"
   ]
  },
  {
   "cell_type": "code",
   "execution_count": 44,
   "metadata": {},
   "outputs": [],
   "source": [
    "total_data = SP500_df['Open'].values.reshape(-1, 1)\n",
    "\n",
    "total_data = scaler.transform(total_data)\n",
    "\n",
    "x_test = []\n",
    "for i in range(len(test_data)):\n",
    "    x_test.append(total_data[i-len(test_data)-60:i-len(test_data), 0])\n",
    "\n",
    "x_test = np.array(x_test)\n",
    "x_test = np.reshape(x_test, newshape=(x_test.shape[0], x_test.shape[1], 1))"
   ]
  },
  {
   "cell_type": "code",
   "execution_count": 45,
   "metadata": {},
   "outputs": [],
   "source": [
    "y_test = test_data.reshape(-1, 1)\n",
    "\n",
    "predictions = model.predict(x_test)\n",
    "predictions = scaler.inverse_transform(predictions)"
   ]
  },
  {
   "cell_type": "code",
   "execution_count": 49,
   "metadata": {},
   "outputs": [
    {
     "data": {
      "image/png": "[encoded data removed]",
      "text/plain": [
       "<Figure size 432x288 with 1 Axes>"
      ]
     },
     "metadata": {
      "needs_background": "light"
     },
     "output_type": "display_data"
    }
   ],
   "source": [
    "plt.plot(predictions, color='red', label='Predicted Price')\n",
    "plt.plot(y_test, color='blue', label='Real Price')\n",
    "plt.xlabel('No of Days')\n",
    "plt.ylabel('Stock Price')\n",
    "plt.legend()\n",
    "plt.show()"
   ]
  },
  {
   "cell_type": "code",
   "execution_count": 48,
   "metadata": {},
   "outputs": [
    {
     "data": {
      "image/png": "[encoded data removed]",
      "text/plain": [
       "<Figure size 432x288 with 1 Axes>"
      ]
     },
     "metadata": {
      "needs_background": "light"
     },
     "output_type": "display_data"
    }
   ],
   "source": [
    "plt.plot(predictions[-30:], color='red')\n",
    "plt.plot(y_test[-30:], color='blue')\n",
    "plt.show()"
   ]
  },
  {
   "cell_type": "code",
   "execution_count": 50,
   "metadata": {},
   "outputs": [
    {
     "name": "stdout",
     "output_type": "stream",
     "text": [
      "120/120 [==============================] - 1s 7ms/sample - loss: 8892471.4000 - mean_absolute_error: 2970.1116\n"
     ]
    },
    {
     "data": {
      "text/plain": [
       "[8892471.4, 2970.1116]"
      ]
     },
     "execution_count": 50,
     "metadata": {},
     "output_type": "execute_result"
    }
   ],
   "source": [
    "model.evaluate(x_test, y_test)"
   ]
  },
  {
   "cell_type": "code",
   "execution_count": 53,
   "metadata": {},
   "outputs": [
    {
     "name": "stdout",
     "output_type": "stream",
     "text": [
      "144.22\n",
      "2970.9963333333335\n"
     ]
    }
   ],
   "source": [
    "from sklearn.metrics import mean_squared_error\n",
    "RMSE = round(np.sqrt(mean_squared_error(y_test, predictions)), 2)\n",
    "print(RMSE)\n",
    "print(y_test.mean())"
   ]
  },
  {
   "cell_type": "code",
   "execution_count": 52,
   "metadata": {},
   "outputs": [
    {
     "name": "stdout",
     "output_type": "stream",
     "text": [
      "Model dumped!\n"
     ]
    }
   ],
   "source": [
    "# Save model\n",
    "import joblib\n",
    "from tensorflow.keras.models import save_model\n",
    "\n",
    "model.save(\"Base_model.h5\")\n",
    "print(\"Model dumped!\")"
   ]
  },
  {
   "cell_type": "code",
   "execution_count": null,
   "metadata": {},
   "outputs": [],
   "source": []
  }
 ],
 "metadata": {
  "kernelspec": {
   "display_name": "tensorflow",
   "language": "python",
   "name": "tensorflow"
  },
  "language_info": {
   "codemirror_mode": {
    "name": "ipython",
    "version": 3
   },
   "file_extension": ".py",
   "mimetype": "text/x-python",
   "name": "python",
   "nbconvert_exporter": "python",
   "pygments_lexer": "ipython3",
   "version": "3.7.6"
  }
 },
 "nbformat": 4,
 "nbformat_minor": 4
}
