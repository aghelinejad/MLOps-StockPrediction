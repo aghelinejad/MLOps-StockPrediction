{
 "cells": [
  {
   "cell_type": "code",
   "execution_count": 15,
   "metadata": {},
   "outputs": [],
   "source": [
    "import pandas as pd\n",
    "import numpy as np\n",
    "import matplotlib.pyplot as plt\n",
    "import seaborn as sns"
   ]
  },
  {
   "cell_type": "code",
   "execution_count": 5,
   "metadata": {},
   "outputs": [],
   "source": [
    "import yfinance as yf"
   ]
  },
  {
   "cell_type": "code",
   "execution_count": 45,
   "metadata": {},
   "outputs": [
    {
     "data": {
      "text/plain": [
       "<matplotlib.axes._subplots.AxesSubplot at 0x1534dcc4b88>"
      ]
     },
     "execution_count": 45,
     "metadata": {},
     "output_type": "execute_result"
    },
    {
     "data": {
      "image/png": "[encoded data removed]",
      "text/plain": [
       "<Figure size 432x288 with 1 Axes>"
      ]
     },
     "metadata": {
      "needs_background": "light"
     },
     "output_type": "display_data"
    }
   ],
   "source": [
    "# data for S&P500\n",
    "ticker = yf.Ticker('^GSPC')\n",
    "\n",
    "SP500_df = ticker.history(period=\"max\", interval='1d')\n",
    "\n",
    "SP500_df['Close'].plot(title=\"S&P500's stock price\")"
   ]
  },
  {
   "cell_type": "code",
   "execution_count": 47,
   "metadata": {},
   "outputs": [
    {
     "data": {
      "text/html": [
       "<div>\n",
       "<style scoped>\n",
       "    .dataframe tbody tr th:only-of-type {\n",
       "        vertical-align: middle;\n",
       "    }\n",
       "\n",
       "    .dataframe tbody tr th {\n",
       "        vertical-align: top;\n",
       "    }\n",
       "\n",
       "    .dataframe thead th {\n",
       "        text-align: right;\n",
       "    }\n",
       "</style>\n",
       "<table border=\"1\" class=\"dataframe\">\n",
       "  <thead>\n",
       "    <tr style=\"text-align: right;\">\n",
       "      <th></th>\n",
       "      <th>Open</th>\n",
       "      <th>High</th>\n",
       "      <th>Low</th>\n",
       "      <th>Close</th>\n",
       "      <th>Volume</th>\n",
       "      <th>Dividends</th>\n",
       "      <th>Stock Splits</th>\n",
       "    </tr>\n",
       "    <tr>\n",
       "      <th>Date</th>\n",
       "      <th></th>\n",
       "      <th></th>\n",
       "      <th></th>\n",
       "      <th></th>\n",
       "      <th></th>\n",
       "      <th></th>\n",
       "      <th></th>\n",
       "    </tr>\n",
       "  </thead>\n",
       "  <tbody>\n",
       "    <tr>\n",
       "      <th>1927-12-30</th>\n",
       "      <td>17.66</td>\n",
       "      <td>17.66</td>\n",
       "      <td>17.66</td>\n",
       "      <td>17.66</td>\n",
       "      <td>0</td>\n",
       "      <td>0</td>\n",
       "      <td>0</td>\n",
       "    </tr>\n",
       "    <tr>\n",
       "      <th>1928-01-03</th>\n",
       "      <td>17.76</td>\n",
       "      <td>17.76</td>\n",
       "      <td>17.76</td>\n",
       "      <td>17.76</td>\n",
       "      <td>0</td>\n",
       "      <td>0</td>\n",
       "      <td>0</td>\n",
       "    </tr>\n",
       "    <tr>\n",
       "      <th>1928-01-04</th>\n",
       "      <td>17.72</td>\n",
       "      <td>17.72</td>\n",
       "      <td>17.72</td>\n",
       "      <td>17.72</td>\n",
       "      <td>0</td>\n",
       "      <td>0</td>\n",
       "      <td>0</td>\n",
       "    </tr>\n",
       "    <tr>\n",
       "      <th>1928-01-05</th>\n",
       "      <td>17.55</td>\n",
       "      <td>17.55</td>\n",
       "      <td>17.55</td>\n",
       "      <td>17.55</td>\n",
       "      <td>0</td>\n",
       "      <td>0</td>\n",
       "      <td>0</td>\n",
       "    </tr>\n",
       "    <tr>\n",
       "      <th>1928-01-06</th>\n",
       "      <td>17.66</td>\n",
       "      <td>17.66</td>\n",
       "      <td>17.66</td>\n",
       "      <td>17.66</td>\n",
       "      <td>0</td>\n",
       "      <td>0</td>\n",
       "      <td>0</td>\n",
       "    </tr>\n",
       "    <tr>\n",
       "      <th>1928-01-09</th>\n",
       "      <td>17.50</td>\n",
       "      <td>17.50</td>\n",
       "      <td>17.50</td>\n",
       "      <td>17.50</td>\n",
       "      <td>0</td>\n",
       "      <td>0</td>\n",
       "      <td>0</td>\n",
       "    </tr>\n",
       "    <tr>\n",
       "      <th>1928-01-10</th>\n",
       "      <td>17.37</td>\n",
       "      <td>17.37</td>\n",
       "      <td>17.37</td>\n",
       "      <td>17.37</td>\n",
       "      <td>0</td>\n",
       "      <td>0</td>\n",
       "      <td>0</td>\n",
       "    </tr>\n",
       "    <tr>\n",
       "      <th>1928-01-11</th>\n",
       "      <td>17.35</td>\n",
       "      <td>17.35</td>\n",
       "      <td>17.35</td>\n",
       "      <td>17.35</td>\n",
       "      <td>0</td>\n",
       "      <td>0</td>\n",
       "      <td>0</td>\n",
       "    </tr>\n",
       "    <tr>\n",
       "      <th>1928-01-12</th>\n",
       "      <td>17.47</td>\n",
       "      <td>17.47</td>\n",
       "      <td>17.47</td>\n",
       "      <td>17.47</td>\n",
       "      <td>0</td>\n",
       "      <td>0</td>\n",
       "      <td>0</td>\n",
       "    </tr>\n",
       "    <tr>\n",
       "      <th>1928-01-13</th>\n",
       "      <td>17.58</td>\n",
       "      <td>17.58</td>\n",
       "      <td>17.58</td>\n",
       "      <td>17.58</td>\n",
       "      <td>0</td>\n",
       "      <td>0</td>\n",
       "      <td>0</td>\n",
       "    </tr>\n",
       "  </tbody>\n",
       "</table>\n",
       "</div>"
      ],
      "text/plain": [
       "             Open   High    Low  Close  Volume  Dividends  Stock Splits\n",
       "Date                                                                   \n",
       "1927-12-30  17.66  17.66  17.66  17.66       0          0             0\n",
       "1928-01-03  17.76  17.76  17.76  17.76       0          0             0\n",
       "1928-01-04  17.72  17.72  17.72  17.72       0          0             0\n",
       "1928-01-05  17.55  17.55  17.55  17.55       0          0             0\n",
       "1928-01-06  17.66  17.66  17.66  17.66       0          0             0\n",
       "1928-01-09  17.50  17.50  17.50  17.50       0          0             0\n",
       "1928-01-10  17.37  17.37  17.37  17.37       0          0             0\n",
       "1928-01-11  17.35  17.35  17.35  17.35       0          0             0\n",
       "1928-01-12  17.47  17.47  17.47  17.47       0          0             0\n",
       "1928-01-13  17.58  17.58  17.58  17.58       0          0             0"
      ]
     },
     "execution_count": 47,
     "metadata": {},
     "output_type": "execute_result"
    }
   ],
   "source": [
    "SP500_df.head(10)"
   ]
  },
  {
   "cell_type": "code",
   "execution_count": 8,
   "metadata": {},
   "outputs": [
    {
     "data": {
      "text/plain": [
       "(23249, 7)"
      ]
     },
     "execution_count": 8,
     "metadata": {},
     "output_type": "execute_result"
    }
   ],
   "source": [
    "SP500_df.shape"
   ]
  },
  {
   "cell_type": "code",
   "execution_count": 9,
   "metadata": {},
   "outputs": [
    {
     "name": "stdout",
     "output_type": "stream",
     "text": [
      "<class 'pandas.core.frame.DataFrame'>\n",
      "DatetimeIndex: 23249 entries, 1927-12-30 to 2020-07-22\n",
      "Data columns (total 7 columns):\n",
      " #   Column        Non-Null Count  Dtype  \n",
      "---  ------        --------------  -----  \n",
      " 0   Open          23249 non-null  float64\n",
      " 1   High          23249 non-null  float64\n",
      " 2   Low           23249 non-null  float64\n",
      " 3   Close         23249 non-null  float64\n",
      " 4   Volume        23249 non-null  int64  \n",
      " 5   Dividends     23249 non-null  int64  \n",
      " 6   Stock Splits  23249 non-null  int64  \n",
      "dtypes: float64(4), int64(3)\n",
      "memory usage: 1.4 MB\n"
     ]
    }
   ],
   "source": [
    "SP500_df.info()"
   ]
  },
  {
   "cell_type": "code",
   "execution_count": 10,
   "metadata": {},
   "outputs": [
    {
     "data": {
      "text/html": [
       "<div>\n",
       "<style scoped>\n",
       "    .dataframe tbody tr th:only-of-type {\n",
       "        vertical-align: middle;\n",
       "    }\n",
       "\n",
       "    .dataframe tbody tr th {\n",
       "        vertical-align: top;\n",
       "    }\n",
       "\n",
       "    .dataframe thead th {\n",
       "        text-align: right;\n",
       "    }\n",
       "</style>\n",
       "<table border=\"1\" class=\"dataframe\">\n",
       "  <thead>\n",
       "    <tr style=\"text-align: right;\">\n",
       "      <th></th>\n",
       "      <th>Open</th>\n",
       "      <th>High</th>\n",
       "      <th>Low</th>\n",
       "      <th>Close</th>\n",
       "      <th>Volume</th>\n",
       "      <th>Dividends</th>\n",
       "      <th>Stock Splits</th>\n",
       "    </tr>\n",
       "  </thead>\n",
       "  <tbody>\n",
       "    <tr>\n",
       "      <th>count</th>\n",
       "      <td>23249.000000</td>\n",
       "      <td>23249.000000</td>\n",
       "      <td>23249.000000</td>\n",
       "      <td>23249.000000</td>\n",
       "      <td>2.324900e+04</td>\n",
       "      <td>23249.0</td>\n",
       "      <td>23249.0</td>\n",
       "    </tr>\n",
       "    <tr>\n",
       "      <th>mean</th>\n",
       "      <td>477.619867</td>\n",
       "      <td>480.428561</td>\n",
       "      <td>474.626967</td>\n",
       "      <td>477.718128</td>\n",
       "      <td>7.581319e+08</td>\n",
       "      <td>0.0</td>\n",
       "      <td>0.0</td>\n",
       "    </tr>\n",
       "    <tr>\n",
       "      <th>std</th>\n",
       "      <td>708.742589</td>\n",
       "      <td>712.532510</td>\n",
       "      <td>704.595465</td>\n",
       "      <td>708.842507</td>\n",
       "      <td>1.474134e+09</td>\n",
       "      <td>0.0</td>\n",
       "      <td>0.0</td>\n",
       "    </tr>\n",
       "    <tr>\n",
       "      <th>min</th>\n",
       "      <td>4.400000</td>\n",
       "      <td>4.400000</td>\n",
       "      <td>4.400000</td>\n",
       "      <td>4.400000</td>\n",
       "      <td>0.000000e+00</td>\n",
       "      <td>0.0</td>\n",
       "      <td>0.0</td>\n",
       "    </tr>\n",
       "    <tr>\n",
       "      <th>25%</th>\n",
       "      <td>23.790000</td>\n",
       "      <td>23.790000</td>\n",
       "      <td>23.790000</td>\n",
       "      <td>23.790000</td>\n",
       "      <td>1.260000e+06</td>\n",
       "      <td>0.0</td>\n",
       "      <td>0.0</td>\n",
       "    </tr>\n",
       "    <tr>\n",
       "      <th>50%</th>\n",
       "      <td>99.320000</td>\n",
       "      <td>100.080000</td>\n",
       "      <td>98.520000</td>\n",
       "      <td>99.320000</td>\n",
       "      <td>1.705000e+07</td>\n",
       "      <td>0.0</td>\n",
       "      <td>0.0</td>\n",
       "    </tr>\n",
       "    <tr>\n",
       "      <th>75%</th>\n",
       "      <td>806.810000</td>\n",
       "      <td>814.900000</td>\n",
       "      <td>800.200000</td>\n",
       "      <td>807.480000</td>\n",
       "      <td>5.138300e+08</td>\n",
       "      <td>0.0</td>\n",
       "      <td>0.0</td>\n",
       "    </tr>\n",
       "    <tr>\n",
       "      <th>max</th>\n",
       "      <td>3380.450000</td>\n",
       "      <td>3393.520000</td>\n",
       "      <td>3378.830000</td>\n",
       "      <td>3386.150000</td>\n",
       "      <td>1.145623e+10</td>\n",
       "      <td>0.0</td>\n",
       "      <td>0.0</td>\n",
       "    </tr>\n",
       "  </tbody>\n",
       "</table>\n",
       "</div>"
      ],
      "text/plain": [
       "               Open          High           Low         Close        Volume  \\\n",
       "count  23249.000000  23249.000000  23249.000000  23249.000000  2.324900e+04   \n",
       "mean     477.619867    480.428561    474.626967    477.718128  7.581319e+08   \n",
       "std      708.742589    712.532510    704.595465    708.842507  1.474134e+09   \n",
       "min        4.400000      4.400000      4.400000      4.400000  0.000000e+00   \n",
       "25%       23.790000     23.790000     23.790000     23.790000  1.260000e+06   \n",
       "50%       99.320000    100.080000     98.520000     99.320000  1.705000e+07   \n",
       "75%      806.810000    814.900000    800.200000    807.480000  5.138300e+08   \n",
       "max     3380.450000   3393.520000   3378.830000   3386.150000  1.145623e+10   \n",
       "\n",
       "       Dividends  Stock Splits  \n",
       "count    23249.0       23249.0  \n",
       "mean         0.0           0.0  \n",
       "std          0.0           0.0  \n",
       "min          0.0           0.0  \n",
       "25%          0.0           0.0  \n",
       "50%          0.0           0.0  \n",
       "75%          0.0           0.0  \n",
       "max          0.0           0.0  "
      ]
     },
     "execution_count": 10,
     "metadata": {},
     "output_type": "execute_result"
    }
   ],
   "source": [
    "SP500_df.describe()"
   ]
  },
  {
   "cell_type": "code",
   "execution_count": 12,
   "metadata": {},
   "outputs": [
    {
     "data": {
      "text/html": [
       "<div>\n",
       "<style scoped>\n",
       "    .dataframe tbody tr th:only-of-type {\n",
       "        vertical-align: middle;\n",
       "    }\n",
       "\n",
       "    .dataframe tbody tr th {\n",
       "        vertical-align: top;\n",
       "    }\n",
       "\n",
       "    .dataframe thead th {\n",
       "        text-align: right;\n",
       "    }\n",
       "</style>\n",
       "<table border=\"1\" class=\"dataframe\">\n",
       "  <thead>\n",
       "    <tr style=\"text-align: right;\">\n",
       "      <th></th>\n",
       "      <th>Open</th>\n",
       "      <th>High</th>\n",
       "      <th>Low</th>\n",
       "      <th>Close</th>\n",
       "      <th>Volume</th>\n",
       "    </tr>\n",
       "  </thead>\n",
       "  <tbody>\n",
       "    <tr>\n",
       "      <th>Open</th>\n",
       "      <td>1.000000</td>\n",
       "      <td>0.999971</td>\n",
       "      <td>0.999958</td>\n",
       "      <td>0.999930</td>\n",
       "      <td>0.819189</td>\n",
       "    </tr>\n",
       "    <tr>\n",
       "      <th>High</th>\n",
       "      <td>0.999971</td>\n",
       "      <td>1.000000</td>\n",
       "      <td>0.999941</td>\n",
       "      <td>0.999963</td>\n",
       "      <td>0.820160</td>\n",
       "    </tr>\n",
       "    <tr>\n",
       "      <th>Low</th>\n",
       "      <td>0.999958</td>\n",
       "      <td>0.999941</td>\n",
       "      <td>1.000000</td>\n",
       "      <td>0.999965</td>\n",
       "      <td>0.817830</td>\n",
       "    </tr>\n",
       "    <tr>\n",
       "      <th>Close</th>\n",
       "      <td>0.999930</td>\n",
       "      <td>0.999963</td>\n",
       "      <td>0.999965</td>\n",
       "      <td>1.000000</td>\n",
       "      <td>0.818980</td>\n",
       "    </tr>\n",
       "    <tr>\n",
       "      <th>Volume</th>\n",
       "      <td>0.819189</td>\n",
       "      <td>0.820160</td>\n",
       "      <td>0.817830</td>\n",
       "      <td>0.818980</td>\n",
       "      <td>1.000000</td>\n",
       "    </tr>\n",
       "  </tbody>\n",
       "</table>\n",
       "</div>"
      ],
      "text/plain": [
       "            Open      High       Low     Close    Volume\n",
       "Open    1.000000  0.999971  0.999958  0.999930  0.819189\n",
       "High    0.999971  1.000000  0.999941  0.999963  0.820160\n",
       "Low     0.999958  0.999941  1.000000  0.999965  0.817830\n",
       "Close   0.999930  0.999963  0.999965  1.000000  0.818980\n",
       "Volume  0.819189  0.820160  0.817830  0.818980  1.000000"
      ]
     },
     "execution_count": 12,
     "metadata": {},
     "output_type": "execute_result"
    }
   ],
   "source": [
    "SP500_df.drop(columns=['Dividends', 'Stock Splits'], inplace=True)\n",
    "SP500_df.corr()"
   ]
  },
  {
   "cell_type": "code",
   "execution_count": 35,
   "metadata": {},
   "outputs": [],
   "source": [
    "# train-test splitting\n",
    "train_data = SP500_df['Open'].values[:20000]\n",
    "test_data = SP500_df['Open'].values[20000:]"
   ]
  },
  {
   "cell_type": "code",
   "execution_count": 16,
   "metadata": {},
   "outputs": [],
   "source": [
    "# data preprocessing\n",
    "train = train_data.reshape(-1, 1)\n",
    "\n",
    "from sklearn.preprocessing import MinMaxScaler\n",
    "scaler = MinMaxScaler()\n",
    "train = scaler.fit_transform(train)\n",
    "\n",
    "# prepare training dataset for 60 timesteps\n",
    "x_train = []\n",
    "y_train = []\n",
    "\n",
    "for i in range(train.shape[0]-60):\n",
    "    x_train.append(train[i:i+60, 0])\n",
    "    y_train.append(train[i+60, 0])\n",
    "    \n",
    "x_train = np.array(x_train)\n",
    "y_train = np.array(y_train)\n",
    "\n",
    "x_train = np.reshape(x_train, newshape=(x_train.shape[0], x_train.shape[1], 1))"
   ]
  },
  {
   "cell_type": "code",
   "execution_count": 17,
   "metadata": {},
   "outputs": [
    {
     "data": {
      "text/plain": [
       "(23189, 60, 1)"
      ]
     },
     "execution_count": 17,
     "metadata": {},
     "output_type": "execute_result"
    }
   ],
   "source": [
    "x_train.shape"
   ]
  },
  {
   "cell_type": "code",
   "execution_count": 18,
   "metadata": {},
   "outputs": [],
   "source": [
    "from tensorflow.keras.models import Sequential\n",
    "from tensorflow.keras.layers import LSTM, Dense, Dropout\n",
    "from tensorflow.keras import metrics"
   ]
  },
  {
   "cell_type": "code",
   "execution_count": 19,
   "metadata": {},
   "outputs": [],
   "source": [
    "model = Sequential()\n",
    "\n",
    "# model.add(LSTM(units=50, return_sequences=True, input_shape=(x_train.shape[1], 1)))\n",
    "model.add(LSTM(units=70, return_sequences=True))\n",
    "model.add(Dropout(rate=0.1))\n",
    "\n",
    "model.add(LSTM(units=70, return_sequences=True))\n",
    "model.add(Dropout(rate=0.1))\n",
    "\n",
    "model.add(LSTM(units=70, return_sequences=False))\n",
    "model.add(Dropout(rate=0.1))\n",
    "\n",
    "model.add(Dense(units=1))\n",
    "\n",
    "model.compile(optimizer='rmsprop', loss='mean_squared_error', metrics=[metrics.mae])"
   ]
  },
  {
   "cell_type": "code",
   "execution_count": 21,
   "metadata": {},
   "outputs": [
    {
     "name": "stdout",
     "output_type": "stream",
     "text": [
      "Train on 23189 samples\n",
      "Epoch 1/10\n",
      "23189/23189 [==============================] - 88s 4ms/sample - loss: 2.9170e-04 - mean_absolute_error: 0.0113\n",
      "Epoch 2/10\n",
      "23189/23189 [==============================] - 95s 4ms/sample - loss: 2.8691e-04 - mean_absolute_error: 0.0111\n",
      "Epoch 3/10\n",
      "23189/23189 [==============================] - 101s 4ms/sample - loss: 2.7151e-04 - mean_absolute_error: 0.0110\n",
      "Epoch 4/10\n",
      "23189/23189 [==============================] - 102s 4ms/sample - loss: 2.6918e-04 - mean_absolute_error: 0.0104\n",
      "Epoch 5/10\n",
      "23189/23189 [==============================] - 89s 4ms/sample - loss: 2.6851e-04 - mean_absolute_error: 0.0106\n",
      "Epoch 6/10\n",
      "23189/23189 [==============================] - 102s 4ms/sample - loss: 2.5805e-04 - mean_absolute_error: 0.0102\n",
      "Epoch 7/10\n",
      "23189/23189 [==============================] - 107s 5ms/sample - loss: 2.5494e-04 - mean_absolute_error: 0.0103\n",
      "Epoch 8/10\n",
      "23189/23189 [==============================] - 103s 4ms/sample - loss: 2.4817e-04 - mean_absolute_error: 0.0103\n",
      "Epoch 9/10\n",
      "23189/23189 [==============================] - 103s 4ms/sample - loss: 2.4844e-04 - mean_absolute_error: 0.0103\n",
      "Epoch 10/10\n",
      "23189/23189 [==============================] - 104s 4ms/sample - loss: 2.5243e-04 - mean_absolute_error: 0.0103\n"
     ]
    },
    {
     "data": {
      "text/plain": [
       "<tensorflow.python.keras.callbacks.History at 0x15349375ac8>"
      ]
     },
     "execution_count": 21,
     "metadata": {},
     "output_type": "execute_result"
    }
   ],
   "source": [
    "model.fit(x_train, y_train, batch_size=128, epochs=10, verbose=1)"
   ]
  },
  {
   "cell_type": "code",
   "execution_count": 22,
   "metadata": {},
   "outputs": [
    {
     "data": {
      "text/plain": [
       "<matplotlib.axes._subplots.AxesSubplot at 0x153493858c8>"
      ]
     },
     "execution_count": 22,
     "metadata": {},
     "output_type": "execute_result"
    },
    {
     "data": {
      "image/png": "[encoded data removed]",
      "text/plain": [
       "<Figure size 432x288 with 1 Axes>"
      ]
     },
     "metadata": {
      "needs_background": "light"
     },
     "output_type": "display_data"
    }
   ],
   "source": [
    "losses = pd.DataFrame(model.history.history)\n",
    "losses.plot()"
   ]
  },
  {
   "cell_type": "code",
   "execution_count": null,
   "metadata": {},
   "outputs": [],
   "source": [
    "from tensorflow.keras.wrappers.scikit_learn import KerasRegressor\n",
    "\n",
    "def create_model(l=4, n=50, r=0.1, opt='rmsprop'):\n",
    "    model = Sequential()\n",
    "    for j in range(l):\n",
    "        model.add(LSTM(units=n, return_sequences=True))\n",
    "        model.add(Dropout(rate=r))\n",
    "    model.add(Dense(units=1))\n",
    "    model.compile(optimizer=opt, loss='mean_squared_error', metrics=[metrics.mae])\n",
    "    return model\n",
    "    \n",
    "model = KerasRegressor(build_fn=create_model, epochs=6, batch_size=32)\n",
    "\n",
    "from sklearn.model_selection import RandomizedSearchCV\n",
    "\n",
    "parameters = dict(n=[40, 50, 60, 70, 80],\n",
    "                  r=[0.1, 0.3, 0.5],\n",
    "                  l=[3, 4, 5, 6],\n",
    "                  batch_size=[32, 64, 128],\n",
    "                  opt=['sgd', 'rmsprop', 'adam'])\n",
    "\n",
    "tuner = RandomizedSearchCV(model, param_distributions=parameters, cv=3, n_iter=10, n_jobs=-1, verbose=1)\n",
    "\n",
    "tuned_results = tuner.fit(x_train, y_train)"
   ]
  },
  {
   "cell_type": "code",
   "execution_count": null,
   "metadata": {},
   "outputs": [],
   "source": [
    "# summarize results\n",
    "print(\"Best: %f using %s\" % (tuned_results.best_score_, tuned_results.best_params_))\n",
    "\n",
    "means = tuned_results.cv_results_['mean_test_score']\n",
    "stds = tuned_results.cv_results_['std_test_score']\n",
    "params = tuned_results.cv_results_['params']\n",
    "# for mean, stdev, param in zip(means, stds, params):\n",
    "#     print(\"%f (%f) with: %r\" % (mean, stdev, param))"
   ]
  },
  {
   "cell_type": "code",
   "execution_count": 25,
   "metadata": {},
   "outputs": [],
   "source": [
    "total_data = SP500_df['Open'].values.reshape(-1, 1)\n",
    "\n",
    "total_data = scaler.transform(total_data)\n",
    "\n",
    "x_test = []\n",
    "for i in range(len(test_data)):\n",
    "    x_test.append(total_data[i-len(test_data)-60:i-len(test_data), 0])\n",
    "\n",
    "x_test = np.array(x_test)\n",
    "x_test = np.reshape(x_test, newshape=(x_test.shape[0], x_test.shape[1], 1))"
   ]
  },
  {
   "cell_type": "code",
   "execution_count": 31,
   "metadata": {},
   "outputs": [],
   "source": [
    "y_test = test_data.reshape(-1, 1)\n",
    "\n",
    "predictions = model.predict(x_test)\n",
    "predictions = scaler.inverse_transform(predictions)"
   ]
  },
  {
   "cell_type": "code",
   "execution_count": 41,
   "metadata": {},
   "outputs": [
    {
     "data": {
      "image/png": "[encoded data removed]",
      "text/plain": [
       "<Figure size 432x288 with 1 Axes>"
      ]
     },
     "metadata": {
      "needs_background": "light"
     },
     "output_type": "display_data"
    }
   ],
   "source": [
    "plt.plot(predictions, color='red')\n",
    "plt.plot(y_test, color='blue')\n",
    "plt.show()"
   ]
  },
  {
   "cell_type": "code",
   "execution_count": 42,
   "metadata": {},
   "outputs": [
    {
     "data": {
      "image/png": "[encoded data removed]",
      "text/plain": [
       "<Figure size 432x288 with 1 Axes>"
      ]
     },
     "metadata": {
      "needs_background": "light"
     },
     "output_type": "display_data"
    }
   ],
   "source": [
    "plt.plot(predictions[-100:], color='red')\n",
    "plt.plot(y_test[-100:], color='blue')\n",
    "plt.show()"
   ]
  },
  {
   "cell_type": "code",
   "execution_count": 33,
   "metadata": {},
   "outputs": [
    {
     "name": "stdout",
     "output_type": "stream",
     "text": [
      "3249/3249 [==============================] - 4s 1ms/sample - loss: 3892790.3306 - mean_absolute_error: 1857.9381\n"
     ]
    },
    {
     "data": {
      "text/plain": [
       "[3892790.3305632505, 1857.9381]"
      ]
     },
     "execution_count": 33,
     "metadata": {},
     "output_type": "execute_result"
    }
   ],
   "source": [
    "model.evaluate(x_test, y_test)"
   ]
  },
  {
   "cell_type": "code",
   "execution_count": 34,
   "metadata": {},
   "outputs": [
    {
     "name": "stdout",
     "output_type": "stream",
     "text": [
      "83.54\n"
     ]
    }
   ],
   "source": [
    "from sklearn.metrics import mean_squared_error\n",
    "RMSE = round(np.sqrt(mean_squared_error(y_test, predictions)), 2)\n",
    "print(RMSE)"
   ]
  },
  {
   "cell_type": "code",
   "execution_count": null,
   "metadata": {},
   "outputs": [],
   "source": []
  }
 ],
 "metadata": {
  "kernelspec": {
   "display_name": "tensorflow",
   "language": "python",
   "name": "tensorflow"
  },
  "language_info": {
   "codemirror_mode": {
    "name": "ipython",
    "version": 3
   },
   "file_extension": ".py",
   "mimetype": "text/x-python",
   "name": "python",
   "nbconvert_exporter": "python",
   "pygments_lexer": "ipython3",
   "version": "3.7.6"
  }
 },
 "nbformat": 4,
 "nbformat_minor": 4
}
