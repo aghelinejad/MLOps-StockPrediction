{
 "cells": [
  {
   "cell_type": "code",
   "execution_count": 1,
   "metadata": {},
   "outputs": [],
   "source": [
    "import pandas as pd\n",
    "import numpy as np\n",
    "import matplotlib.pyplot as plt\n",
    "import seaborn as sns\n",
    "\n",
    "import yfinance as yf"
   ]
  },
  {
   "cell_type": "code",
   "execution_count": 2,
   "metadata": {},
   "outputs": [
    {
     "data": {
      "text/html": [
       "<div>\n",
       "<style scoped>\n",
       "    .dataframe tbody tr th:only-of-type {\n",
       "        vertical-align: middle;\n",
       "    }\n",
       "\n",
       "    .dataframe tbody tr th {\n",
       "        vertical-align: top;\n",
       "    }\n",
       "\n",
       "    .dataframe thead th {\n",
       "        text-align: right;\n",
       "    }\n",
       "</style>\n",
       "<table border=\"1\" class=\"dataframe\">\n",
       "  <thead>\n",
       "    <tr style=\"text-align: right;\">\n",
       "      <th></th>\n",
       "      <th>Total</th>\n",
       "    </tr>\n",
       "    <tr>\n",
       "      <th>Monthx</th>\n",
       "      <th></th>\n",
       "    </tr>\n",
       "  </thead>\n",
       "  <tbody>\n",
       "    <tr>\n",
       "      <th>2000-06-01</th>\n",
       "      <td>4.0</td>\n",
       "    </tr>\n",
       "    <tr>\n",
       "      <th>2000-07-01</th>\n",
       "      <td>4.0</td>\n",
       "    </tr>\n",
       "    <tr>\n",
       "      <th>2000-08-01</th>\n",
       "      <td>4.1</td>\n",
       "    </tr>\n",
       "    <tr>\n",
       "      <th>2000-09-01</th>\n",
       "      <td>3.9</td>\n",
       "    </tr>\n",
       "    <tr>\n",
       "      <th>2000-10-01</th>\n",
       "      <td>3.9</td>\n",
       "    </tr>\n",
       "  </tbody>\n",
       "</table>\n",
       "</div>"
      ],
      "text/plain": [
       "            Total\n",
       "Monthx           \n",
       "2000-06-01    4.0\n",
       "2000-07-01    4.0\n",
       "2000-08-01    4.1\n",
       "2000-09-01    3.9\n",
       "2000-10-01    3.9"
      ]
     },
     "execution_count": 2,
     "metadata": {},
     "output_type": "execute_result"
    }
   ],
   "source": [
    "unemployment = pd.read_csv('Unemployment rate.csv')\n",
    "unemployment['Monthx'] = pd.to_datetime(unemployment['Month'], format='%b-%y')\n",
    "unemployment_df = unemployment.set_index('Monthx')\n",
    "unemployment_df = unemployment_df[['Total']]\n",
    "unemployment_df.head()"
   ]
  },
  {
   "cell_type": "code",
   "execution_count": 3,
   "metadata": {},
   "outputs": [
    {
     "data": {
      "text/html": [
       "<div>\n",
       "<style scoped>\n",
       "    .dataframe tbody tr th:only-of-type {\n",
       "        vertical-align: middle;\n",
       "    }\n",
       "\n",
       "    .dataframe tbody tr th {\n",
       "        vertical-align: top;\n",
       "    }\n",
       "\n",
       "    .dataframe thead th {\n",
       "        text-align: right;\n",
       "    }\n",
       "</style>\n",
       "<table border=\"1\" class=\"dataframe\">\n",
       "  <thead>\n",
       "    <tr style=\"text-align: right;\">\n",
       "      <th></th>\n",
       "      <th>Unnamed: 3</th>\n",
       "    </tr>\n",
       "    <tr>\n",
       "      <th>U.S. GDP - Historical Data</th>\n",
       "      <th></th>\n",
       "    </tr>\n",
       "  </thead>\n",
       "  <tbody>\n",
       "    <tr>\n",
       "      <th>2018-12-01</th>\n",
       "      <td>2.56%</td>\n",
       "    </tr>\n",
       "    <tr>\n",
       "      <th>2018-09-01</th>\n",
       "      <td>3.31%</td>\n",
       "    </tr>\n",
       "    <tr>\n",
       "      <th>2018-06-01</th>\n",
       "      <td>4.10%</td>\n",
       "    </tr>\n",
       "    <tr>\n",
       "      <th>2018-03-01</th>\n",
       "      <td>2.20%</td>\n",
       "    </tr>\n",
       "    <tr>\n",
       "      <th>2017-12-01</th>\n",
       "      <td>2.27%</td>\n",
       "    </tr>\n",
       "  </tbody>\n",
       "</table>\n",
       "</div>"
      ],
      "text/plain": [
       "                           Unnamed: 3\n",
       "U.S. GDP - Historical Data           \n",
       "2018-12-01                      2.56%\n",
       "2018-09-01                      3.31%\n",
       "2018-06-01                      4.10%\n",
       "2018-03-01                      2.20%\n",
       "2017-12-01                      2.27%"
      ]
     },
     "execution_count": 3,
     "metadata": {},
     "output_type": "execute_result"
    }
   ],
   "source": [
    "gdp = pd.read_csv('US_GDP_quaarterly_growth.csv')\n",
    "gdp_df = gdp.set_index('U.S. GDP - Historical Data')\n",
    "gdp_df = gdp_df[['Unnamed: 3']]\n",
    "gdp_df.drop('Date', inplace=True)\n",
    "gdp_df.head()\n",
    "# float(gdp_df['Unnamed: 3'][3][:-1])"
   ]
  },
  {
   "cell_type": "code",
   "execution_count": 4,
   "metadata": {
    "scrolled": true
   },
   "outputs": [
    {
     "data": {
      "text/html": [
       "<div>\n",
       "<style scoped>\n",
       "    .dataframe tbody tr th:only-of-type {\n",
       "        vertical-align: middle;\n",
       "    }\n",
       "\n",
       "    .dataframe tbody tr th {\n",
       "        vertical-align: top;\n",
       "    }\n",
       "\n",
       "    .dataframe thead th {\n",
       "        text-align: right;\n",
       "    }\n",
       "</style>\n",
       "<table border=\"1\" class=\"dataframe\">\n",
       "  <thead>\n",
       "    <tr style=\"text-align: right;\">\n",
       "      <th></th>\n",
       "      <th>interest_rate</th>\n",
       "    </tr>\n",
       "    <tr>\n",
       "      <th>date</th>\n",
       "      <th></th>\n",
       "    </tr>\n",
       "  </thead>\n",
       "  <tbody>\n",
       "    <tr>\n",
       "      <th>1954-07-01</th>\n",
       "      <td>1.13</td>\n",
       "    </tr>\n",
       "    <tr>\n",
       "      <th>1954-07-02</th>\n",
       "      <td>1.25</td>\n",
       "    </tr>\n",
       "    <tr>\n",
       "      <th>1954-07-03</th>\n",
       "      <td>1.25</td>\n",
       "    </tr>\n",
       "    <tr>\n",
       "      <th>1954-07-04</th>\n",
       "      <td>1.25</td>\n",
       "    </tr>\n",
       "    <tr>\n",
       "      <th>1954-07-05</th>\n",
       "      <td>0.88</td>\n",
       "    </tr>\n",
       "  </tbody>\n",
       "</table>\n",
       "</div>"
      ],
      "text/plain": [
       "            interest_rate\n",
       "date                     \n",
       "1954-07-01           1.13\n",
       "1954-07-02           1.25\n",
       "1954-07-03           1.25\n",
       "1954-07-04           1.25\n",
       "1954-07-05           0.88"
      ]
     },
     "execution_count": 4,
     "metadata": {},
     "output_type": "execute_result"
    }
   ],
   "source": [
    "rate = pd.read_csv('fed-funds-rate-historical-chart.csv')\n",
    "rate_df = rate.set_index('date')\n",
    "rate_df = rate_df[[' value']].dropna()\n",
    "rate_df.columns = ['interest_rate']\n",
    "rate_df.head()"
   ]
  },
  {
   "cell_type": "code",
   "execution_count": 5,
   "metadata": {},
   "outputs": [
    {
     "data": {
      "text/html": [
       "<div>\n",
       "<style scoped>\n",
       "    .dataframe tbody tr th:only-of-type {\n",
       "        vertical-align: middle;\n",
       "    }\n",
       "\n",
       "    .dataframe tbody tr th {\n",
       "        vertical-align: top;\n",
       "    }\n",
       "\n",
       "    .dataframe thead th {\n",
       "        text-align: right;\n",
       "    }\n",
       "</style>\n",
       "<table border=\"1\" class=\"dataframe\">\n",
       "  <thead>\n",
       "    <tr style=\"text-align: right;\">\n",
       "      <th></th>\n",
       "      <th>YEAR</th>\n",
       "      <th>JAN</th>\n",
       "      <th>FEB</th>\n",
       "      <th>MAR</th>\n",
       "      <th>APR</th>\n",
       "      <th>MAY</th>\n",
       "      <th>JUN</th>\n",
       "      <th>JUL</th>\n",
       "      <th>AUG</th>\n",
       "      <th>SEP</th>\n",
       "      <th>OCT</th>\n",
       "      <th>NOV</th>\n",
       "      <th>DEC</th>\n",
       "      <th>AVE</th>\n",
       "    </tr>\n",
       "  </thead>\n",
       "  <tbody>\n",
       "    <tr>\n",
       "      <th>102</th>\n",
       "      <td>2016</td>\n",
       "      <td>1.4</td>\n",
       "      <td>1.0</td>\n",
       "      <td>0.9</td>\n",
       "      <td>1.1</td>\n",
       "      <td>1.0</td>\n",
       "      <td>1.0</td>\n",
       "      <td>0.8</td>\n",
       "      <td>1.1</td>\n",
       "      <td>1.5</td>\n",
       "      <td>1.6</td>\n",
       "      <td>1.7</td>\n",
       "      <td>2.1</td>\n",
       "      <td>1.3</td>\n",
       "    </tr>\n",
       "    <tr>\n",
       "      <th>103</th>\n",
       "      <td>2017</td>\n",
       "      <td>2.5</td>\n",
       "      <td>2.7</td>\n",
       "      <td>2.4</td>\n",
       "      <td>2.2</td>\n",
       "      <td>1.9</td>\n",
       "      <td>1.6</td>\n",
       "      <td>1.7</td>\n",
       "      <td>1.9</td>\n",
       "      <td>2.2</td>\n",
       "      <td>2.0</td>\n",
       "      <td>2.2</td>\n",
       "      <td>2.1</td>\n",
       "      <td>2.1</td>\n",
       "    </tr>\n",
       "    <tr>\n",
       "      <th>104</th>\n",
       "      <td>2018</td>\n",
       "      <td>2.1</td>\n",
       "      <td>2.2</td>\n",
       "      <td>2.4</td>\n",
       "      <td>2.5</td>\n",
       "      <td>2.8</td>\n",
       "      <td>2.9</td>\n",
       "      <td>2.9</td>\n",
       "      <td>2.7</td>\n",
       "      <td>2.3</td>\n",
       "      <td>2.5</td>\n",
       "      <td>2.2</td>\n",
       "      <td>1.9</td>\n",
       "      <td>2.4</td>\n",
       "    </tr>\n",
       "    <tr>\n",
       "      <th>105</th>\n",
       "      <td>2019</td>\n",
       "      <td>1.6</td>\n",
       "      <td>1.5</td>\n",
       "      <td>1.9</td>\n",
       "      <td>2.0</td>\n",
       "      <td>1.8</td>\n",
       "      <td>1.6</td>\n",
       "      <td>1.8</td>\n",
       "      <td>1.7</td>\n",
       "      <td>1.7</td>\n",
       "      <td>1.8</td>\n",
       "      <td>2.1</td>\n",
       "      <td>2.3</td>\n",
       "      <td>1.8</td>\n",
       "    </tr>\n",
       "    <tr>\n",
       "      <th>106</th>\n",
       "      <td>2020</td>\n",
       "      <td>2.5</td>\n",
       "      <td>2.3</td>\n",
       "      <td>1.5</td>\n",
       "      <td>0.3</td>\n",
       "      <td>0.1</td>\n",
       "      <td>0.6</td>\n",
       "      <td>NaN</td>\n",
       "      <td>NaN</td>\n",
       "      <td>NaN</td>\n",
       "      <td>NaN</td>\n",
       "      <td>NaN</td>\n",
       "      <td>NaN</td>\n",
       "      <td>NaN</td>\n",
       "    </tr>\n",
       "  </tbody>\n",
       "</table>\n",
       "</div>"
      ],
      "text/plain": [
       "     YEAR  JAN  FEB  MAR  APR  MAY  JUN  JUL  AUG  SEP  OCT  NOV  DEC  AVE\n",
       "102  2016  1.4  1.0  0.9  1.1  1.0  1.0  0.8  1.1  1.5  1.6  1.7  2.1  1.3\n",
       "103  2017  2.5  2.7  2.4  2.2  1.9  1.6  1.7  1.9  2.2  2.0  2.2  2.1  2.1\n",
       "104  2018  2.1  2.2  2.4  2.5  2.8  2.9  2.9  2.7  2.3  2.5  2.2  1.9  2.4\n",
       "105  2019  1.6  1.5  1.9  2.0  1.8  1.6  1.8  1.7  1.7  1.8  2.1  2.3  1.8\n",
       "106  2020  2.5  2.3  1.5  0.3  0.1  0.6  NaN  NaN  NaN  NaN  NaN  NaN  NaN"
      ]
     },
     "execution_count": 5,
     "metadata": {},
     "output_type": "execute_result"
    }
   ],
   "source": [
    "inflation = pd.read_csv('US_month_Inflation.csv')\n",
    "inflation.tail()"
   ]
  },
  {
   "cell_type": "code",
   "execution_count": 6,
   "metadata": {},
   "outputs": [
    {
     "data": {
      "text/html": [
       "<div>\n",
       "<style scoped>\n",
       "    .dataframe tbody tr th:only-of-type {\n",
       "        vertical-align: middle;\n",
       "    }\n",
       "\n",
       "    .dataframe tbody tr th {\n",
       "        vertical-align: top;\n",
       "    }\n",
       "\n",
       "    .dataframe thead th {\n",
       "        text-align: right;\n",
       "    }\n",
       "</style>\n",
       "<table border=\"1\" class=\"dataframe\">\n",
       "  <thead>\n",
       "    <tr style=\"text-align: right;\">\n",
       "      <th></th>\n",
       "      <th>Open</th>\n",
       "      <th>High</th>\n",
       "      <th>Low</th>\n",
       "      <th>Close</th>\n",
       "      <th>Volume</th>\n",
       "      <th>Dividends</th>\n",
       "      <th>Stock Splits</th>\n",
       "    </tr>\n",
       "    <tr>\n",
       "      <th>Date</th>\n",
       "      <th></th>\n",
       "      <th></th>\n",
       "      <th></th>\n",
       "      <th></th>\n",
       "      <th></th>\n",
       "      <th></th>\n",
       "      <th></th>\n",
       "    </tr>\n",
       "  </thead>\n",
       "  <tbody>\n",
       "    <tr>\n",
       "      <th>1927-12-30</th>\n",
       "      <td>17.66</td>\n",
       "      <td>17.66</td>\n",
       "      <td>17.66</td>\n",
       "      <td>17.66</td>\n",
       "      <td>0</td>\n",
       "      <td>0</td>\n",
       "      <td>0</td>\n",
       "    </tr>\n",
       "    <tr>\n",
       "      <th>1928-01-03</th>\n",
       "      <td>17.76</td>\n",
       "      <td>17.76</td>\n",
       "      <td>17.76</td>\n",
       "      <td>17.76</td>\n",
       "      <td>0</td>\n",
       "      <td>0</td>\n",
       "      <td>0</td>\n",
       "    </tr>\n",
       "    <tr>\n",
       "      <th>1928-01-04</th>\n",
       "      <td>17.72</td>\n",
       "      <td>17.72</td>\n",
       "      <td>17.72</td>\n",
       "      <td>17.72</td>\n",
       "      <td>0</td>\n",
       "      <td>0</td>\n",
       "      <td>0</td>\n",
       "    </tr>\n",
       "    <tr>\n",
       "      <th>1928-01-05</th>\n",
       "      <td>17.55</td>\n",
       "      <td>17.55</td>\n",
       "      <td>17.55</td>\n",
       "      <td>17.55</td>\n",
       "      <td>0</td>\n",
       "      <td>0</td>\n",
       "      <td>0</td>\n",
       "    </tr>\n",
       "    <tr>\n",
       "      <th>1928-01-06</th>\n",
       "      <td>17.66</td>\n",
       "      <td>17.66</td>\n",
       "      <td>17.66</td>\n",
       "      <td>17.66</td>\n",
       "      <td>0</td>\n",
       "      <td>0</td>\n",
       "      <td>0</td>\n",
       "    </tr>\n",
       "  </tbody>\n",
       "</table>\n",
       "</div>"
      ],
      "text/plain": [
       "             Open   High    Low  Close  Volume  Dividends  Stock Splits\n",
       "Date                                                                   \n",
       "1927-12-30  17.66  17.66  17.66  17.66       0          0             0\n",
       "1928-01-03  17.76  17.76  17.76  17.76       0          0             0\n",
       "1928-01-04  17.72  17.72  17.72  17.72       0          0             0\n",
       "1928-01-05  17.55  17.55  17.55  17.55       0          0             0\n",
       "1928-01-06  17.66  17.66  17.66  17.66       0          0             0"
      ]
     },
     "execution_count": 6,
     "metadata": {},
     "output_type": "execute_result"
    }
   ],
   "source": [
    "# load data\n",
    "ticker = yf.Ticker('^GSPC')\n",
    "df_sp500 = ticker.history(period=\"max\", interval='1d')\n",
    "# df = ticker.history(start=\"1954-07-10\", interval='1d')['Open']\n",
    "df_sp500.head()"
   ]
  },
  {
   "cell_type": "code",
   "execution_count": 7,
   "metadata": {},
   "outputs": [
    {
     "data": {
      "text/html": [
       "<div>\n",
       "<style scoped>\n",
       "    .dataframe tbody tr th:only-of-type {\n",
       "        vertical-align: middle;\n",
       "    }\n",
       "\n",
       "    .dataframe tbody tr th {\n",
       "        vertical-align: top;\n",
       "    }\n",
       "\n",
       "    .dataframe thead th {\n",
       "        text-align: right;\n",
       "    }\n",
       "</style>\n",
       "<table border=\"1\" class=\"dataframe\">\n",
       "  <thead>\n",
       "    <tr style=\"text-align: right;\">\n",
       "      <th></th>\n",
       "      <th>count</th>\n",
       "      <th>mean</th>\n",
       "      <th>std</th>\n",
       "      <th>min</th>\n",
       "      <th>25%</th>\n",
       "      <th>50%</th>\n",
       "      <th>75%</th>\n",
       "      <th>max</th>\n",
       "    </tr>\n",
       "  </thead>\n",
       "  <tbody>\n",
       "    <tr>\n",
       "      <th>Close</th>\n",
       "      <td>23260.0</td>\n",
       "      <td>4.790389e+02</td>\n",
       "      <td>7.112721e+02</td>\n",
       "      <td>4.40</td>\n",
       "      <td>23.80</td>\n",
       "      <td>99.33</td>\n",
       "      <td>8.131400e+02</td>\n",
       "      <td>3.386150e+03</td>\n",
       "    </tr>\n",
       "    <tr>\n",
       "      <th>Volume</th>\n",
       "      <td>23260.0</td>\n",
       "      <td>7.599377e+08</td>\n",
       "      <td>1.475980e+09</td>\n",
       "      <td>0.00</td>\n",
       "      <td>1260000.00</td>\n",
       "      <td>17080000.00</td>\n",
       "      <td>5.182400e+08</td>\n",
       "      <td>1.145623e+10</td>\n",
       "    </tr>\n",
       "    <tr>\n",
       "      <th>min-max</th>\n",
       "      <td>23260.0</td>\n",
       "      <td>5.814807e+00</td>\n",
       "      <td>1.108953e+01</td>\n",
       "      <td>0.00</td>\n",
       "      <td>0.00</td>\n",
       "      <td>1.55</td>\n",
       "      <td>6.840000e+00</td>\n",
       "      <td>2.189600e+02</td>\n",
       "    </tr>\n",
       "    <tr>\n",
       "      <th>open-close</th>\n",
       "      <td>23260.0</td>\n",
       "      <td>1.017949e-01</td>\n",
       "      <td>8.414116e+00</td>\n",
       "      <td>-150.22</td>\n",
       "      <td>-0.25</td>\n",
       "      <td>0.00</td>\n",
       "      <td>4.500000e-01</td>\n",
       "      <td>1.410300e+02</td>\n",
       "    </tr>\n",
       "  </tbody>\n",
       "</table>\n",
       "</div>"
      ],
      "text/plain": [
       "              count          mean           std     min         25%  \\\n",
       "Close       23260.0  4.790389e+02  7.112721e+02    4.40       23.80   \n",
       "Volume      23260.0  7.599377e+08  1.475980e+09    0.00  1260000.00   \n",
       "min-max     23260.0  5.814807e+00  1.108953e+01    0.00        0.00   \n",
       "open-close  23260.0  1.017949e-01  8.414116e+00 -150.22       -0.25   \n",
       "\n",
       "                    50%           75%           max  \n",
       "Close             99.33  8.131400e+02  3.386150e+03  \n",
       "Volume      17080000.00  5.182400e+08  1.145623e+10  \n",
       "min-max            1.55  6.840000e+00  2.189600e+02  \n",
       "open-close         0.00  4.500000e-01  1.410300e+02  "
      ]
     },
     "execution_count": 7,
     "metadata": {},
     "output_type": "execute_result"
    }
   ],
   "source": [
    "df_sp500['min-max'] = df_sp500['High'] - df_sp500['Low']\n",
    "df_sp500['open-close'] = df_sp500['Close'] - df_sp500['Open']\n",
    "df_sp500 = df_sp500[['Close', 'Volume', 'min-max', 'open-close']]\n",
    "df_sp500.describe().T"
   ]
  },
  {
   "cell_type": "code",
   "execution_count": 8,
   "metadata": {},
   "outputs": [
    {
     "data": {
      "text/plain": [
       "Close            0\n",
       "Volume           0\n",
       "min-max          0\n",
       "open-close       0\n",
       "interest_rate    0\n",
       "dtype: int64"
      ]
     },
     "execution_count": 8,
     "metadata": {},
     "output_type": "execute_result"
    }
   ],
   "source": [
    "df = df_sp500.join(rate_df).loc['1954-07-01':]\n",
    "df = df.loc[:'2020-08-02']\n",
    "df = df.fillna(method='ffill')\n",
    "df.isna().sum()"
   ]
  },
  {
   "cell_type": "code",
   "execution_count": 9,
   "metadata": {},
   "outputs": [
    {
     "data": {
      "text/plain": [
       "(16636, 5)"
      ]
     },
     "execution_count": 9,
     "metadata": {},
     "output_type": "execute_result"
    }
   ],
   "source": [
    "# df.head()\n",
    "df.shape"
   ]
  },
  {
   "cell_type": "code",
   "execution_count": 10,
   "metadata": {},
   "outputs": [
    {
     "data": {
      "image/png": "[encoded data removed]",
      "text/plain": [
       "<Figure size 720x288 with 1 Axes>"
      ]
     },
     "metadata": {
      "needs_background": "light"
     },
     "output_type": "display_data"
    },
    {
     "data": {
      "image/png": "[encoded data removed]",
      "text/plain": [
       "<Figure size 720x288 with 1 Axes>"
      ]
     },
     "metadata": {
      "needs_background": "light"
     },
     "output_type": "display_data"
    },
    {
     "data": {
      "image/png": "[encoded data removed]",
      "text/plain": [
       "<Figure size 720x288 with 1 Axes>"
      ]
     },
     "metadata": {
      "needs_background": "light"
     },
     "output_type": "display_data"
    },
    {
     "data": {
      "image/png": "[encoded data removed]",
      "text/plain": [
       "<Figure size 720x288 with 1 Axes>"
      ]
     },
     "metadata": {
      "needs_background": "light"
     },
     "output_type": "display_data"
    },
    {
     "data": {
      "image/png": "[encoded data removed]",
      "text/plain": [
       "<Figure size 720x288 with 1 Axes>"
      ]
     },
     "metadata": {
      "needs_background": "light"
     },
     "output_type": "display_data"
    }
   ],
   "source": [
    "for col in df.columns:\n",
    "    plt.figure(figsize=(10, 4))\n",
    "    plt.plot(df[col], color='blue')\n",
    "    plt.title(str(col))\n",
    "    plt.show()"
   ]
  },
  {
   "cell_type": "code",
   "execution_count": 11,
   "metadata": {},
   "outputs": [
    {
     "data": {
      "text/html": [
       "<div>\n",
       "<style scoped>\n",
       "    .dataframe tbody tr th:only-of-type {\n",
       "        vertical-align: middle;\n",
       "    }\n",
       "\n",
       "    .dataframe tbody tr th {\n",
       "        vertical-align: top;\n",
       "    }\n",
       "\n",
       "    .dataframe thead th {\n",
       "        text-align: right;\n",
       "    }\n",
       "</style>\n",
       "<table border=\"1\" class=\"dataframe\">\n",
       "  <thead>\n",
       "    <tr style=\"text-align: right;\">\n",
       "      <th></th>\n",
       "      <th>Close</th>\n",
       "      <th>Volume</th>\n",
       "      <th>min-max</th>\n",
       "      <th>open-close</th>\n",
       "      <th>interest_rate</th>\n",
       "    </tr>\n",
       "  </thead>\n",
       "  <tbody>\n",
       "    <tr>\n",
       "      <th>Close</th>\n",
       "      <td>1.000000</td>\n",
       "      <td>0.795743</td>\n",
       "      <td>0.676108</td>\n",
       "      <td>0.016644</td>\n",
       "      <td>-0.488056</td>\n",
       "    </tr>\n",
       "    <tr>\n",
       "      <th>Volume</th>\n",
       "      <td>0.795743</td>\n",
       "      <td>1.000000</td>\n",
       "      <td>0.705070</td>\n",
       "      <td>-0.010458</td>\n",
       "      <td>-0.546688</td>\n",
       "    </tr>\n",
       "    <tr>\n",
       "      <th>min-max</th>\n",
       "      <td>0.676108</td>\n",
       "      <td>0.705070</td>\n",
       "      <td>1.000000</td>\n",
       "      <td>-0.086028</td>\n",
       "      <td>-0.336901</td>\n",
       "    </tr>\n",
       "    <tr>\n",
       "      <th>open-close</th>\n",
       "      <td>0.016644</td>\n",
       "      <td>-0.010458</td>\n",
       "      <td>-0.086028</td>\n",
       "      <td>1.000000</td>\n",
       "      <td>-0.008149</td>\n",
       "    </tr>\n",
       "    <tr>\n",
       "      <th>interest_rate</th>\n",
       "      <td>-0.488056</td>\n",
       "      <td>-0.546688</td>\n",
       "      <td>-0.336901</td>\n",
       "      <td>-0.008149</td>\n",
       "      <td>1.000000</td>\n",
       "    </tr>\n",
       "  </tbody>\n",
       "</table>\n",
       "</div>"
      ],
      "text/plain": [
       "                  Close    Volume   min-max  open-close  interest_rate\n",
       "Close          1.000000  0.795743  0.676108    0.016644      -0.488056\n",
       "Volume         0.795743  1.000000  0.705070   -0.010458      -0.546688\n",
       "min-max        0.676108  0.705070  1.000000   -0.086028      -0.336901\n",
       "open-close     0.016644 -0.010458 -0.086028    1.000000      -0.008149\n",
       "interest_rate -0.488056 -0.546688 -0.336901   -0.008149       1.000000"
      ]
     },
     "execution_count": 11,
     "metadata": {},
     "output_type": "execute_result"
    }
   ],
   "source": [
    "df.corr()"
   ]
  },
  {
   "cell_type": "markdown",
   "metadata": {},
   "source": [
    "# Multivariate-Multistep Model"
   ]
  },
  {
   "cell_type": "code",
   "execution_count": 12,
   "metadata": {},
   "outputs": [],
   "source": [
    "from numpy import array\n",
    "\n",
    "# Reshape from [samples, timesteps] into [samples, timesteps, features]\n",
    "# split a multivariate sequence into samples\n",
    "def split_sequences(sequences, n_steps_in, n_steps_out):\n",
    "    X, y = list(), list()\n",
    "    for i in range(len(sequences)):\n",
    "        # find the end of this pattern\n",
    "        end_ix = i + n_steps_in\n",
    "        out_end_ix = end_ix + n_steps_out\n",
    "        # check if we are beyond the dataset\n",
    "        if out_end_ix > len(sequences):\n",
    "            break\n",
    "        # gather input and output parts of the pattern\n",
    "        seq_x, seq_y = sequences[i:end_ix, :], sequences[end_ix:out_end_ix, :]\n",
    "        X.append(seq_x)\n",
    "        y.append(seq_y)\n",
    "    return array(X), array(y)"
   ]
  },
  {
   "cell_type": "code",
   "execution_count": 13,
   "metadata": {},
   "outputs": [],
   "source": [
    "from tensorflow.keras.models import Sequential\n",
    "from tensorflow.keras.layers import LSTM, Dense, Dropout\n",
    "from tensorflow.keras.layers import RepeatVector\n",
    "from tensorflow.keras.layers import TimeDistributed\n",
    "from tensorflow.keras import metrics\n",
    "from tensorflow.keras.backend import clear_session\n",
    "\n",
    "from sklearn.preprocessing import MinMaxScaler, StandardScaler\n",
    "from sklearn.metrics import mean_squared_error"
   ]
  },
  {
   "cell_type": "code",
   "execution_count": 34,
   "metadata": {},
   "outputs": [
    {
     "name": "stdout",
     "output_type": "stream",
     "text": [
      "Train on 16530 samples\n",
      "Epoch 1/50\n",
      "16530/16530 [==============================] - 5s 320us/sample - loss: 0.0408 - mean_absolute_error: 0.0804\n",
      "Epoch 2/50\n",
      "16530/16530 [==============================] - 3s 197us/sample - loss: 4.4400e-04 - mean_absolute_error: 0.0115\n",
      "Epoch 3/50\n",
      "16530/16530 [==============================] - 3s 189us/sample - loss: 3.9706e-04 - mean_absolute_error: 0.0112\n",
      "Epoch 4/50\n",
      "16530/16530 [==============================] - 3s 188us/sample - loss: 3.8699e-04 - mean_absolute_error: 0.0114\n",
      "Epoch 5/50\n",
      "16530/16530 [==============================] - 3s 189us/sample - loss: 3.8427e-04 - mean_absolute_error: 0.0115s - loss: 3.8571e-04 - mean_absolute_error: 0.\n",
      "Epoch 6/50\n",
      "16530/16530 [==============================] - 3s 189us/sample - loss: 3.0074e-04 - mean_absolute_error: 0.0103s - los\n",
      "Epoch 7/50\n",
      "16530/16530 [==============================] - 3s 192us/sample - loss: 2.5289e-04 - mean_absolute_error: 0.0094\n",
      "Epoch 8/50\n",
      "16530/16530 [==============================] - 3s 193us/sample - loss: 2.5218e-04 - mean_absolute_error: 0.0100\n",
      "Epoch 9/50\n",
      "16530/16530 [==============================] - 3s 192us/sample - loss: 2.2673e-04 - mean_absolute_error: 0.0097\n",
      "Epoch 10/50\n",
      "16530/16530 [==============================] - 3s 192us/sample - loss: 2.2167e-04 - mean_absolute_error: 0.0093s - loss: 2.6185e-04 - mean_abso\n",
      "Epoch 11/50\n",
      "16530/16530 [==============================] - 3s 192us/sample - loss: 1.4605e-04 - mean_absolute_error: 0.0077\n",
      "Epoch 12/50\n",
      "16530/16530 [==============================] - 4s 229us/sample - loss: 1.6003e-04 - mean_absolute_error: 0.0080\n",
      "Epoch 13/50\n",
      "16530/16530 [==============================] - 4s 239us/sample - loss: 1.4158e-04 - mean_absolute_error: 0.0077\n",
      "Epoch 14/50\n",
      "16530/16530 [==============================] - 4s 220us/sample - loss: 9.7899e-05 - mean_absolute_error: 0.0062\n",
      "Epoch 15/50\n",
      "16530/16530 [==============================] - 3s 198us/sample - loss: 9.2319e-05 - mean_absolute_error: 0.0062\n",
      "Epoch 16/50\n",
      "16530/16530 [==============================] - 4s 219us/sample - loss: 7.9772e-05 - mean_absolute_error: 0.0057\n",
      "Epoch 17/50\n",
      "16530/16530 [==============================] - 3s 204us/sample - loss: 7.7759e-05 - mean_absolute_error: 0.0058\n",
      "Epoch 18/50\n",
      "16530/16530 [==============================] - 3s 191us/sample - loss: 7.6439e-05 - mean_absolute_error: 0.0057\n",
      "Epoch 19/50\n",
      "16530/16530 [==============================] - 3s 171us/sample - loss: 8.1537e-05 - mean_absolute_error: 0.0061\n",
      "Epoch 20/50\n",
      "16530/16530 [==============================] - 3s 179us/sample - loss: 6.7383e-05 - mean_absolute_error: 0.0054\n",
      "Epoch 21/50\n",
      "16530/16530 [==============================] - 3s 179us/sample - loss: 7.2445e-05 - mean_absolute_error: 0.0057s - loss: 5.333\n",
      "Epoch 22/50\n",
      "16530/16530 [==============================] - 3s 168us/sample - loss: 7.3773e-05 - mean_absolute_error: 0.0057\n",
      "Epoch 23/50\n",
      "16530/16530 [==============================] - 3s 168us/sample - loss: 5.5793e-05 - mean_absolute_error: 0.0049\n",
      "Epoch 24/50\n",
      "16530/16530 [==============================] - 3s 170us/sample - loss: 1.0306e-04 - mean_absolute_error: 0.0066\n",
      "Epoch 25/50\n",
      "16530/16530 [==============================] - 3s 173us/sample - loss: 6.3014e-05 - mean_absolute_error: 0.0053\n",
      "Epoch 26/50\n",
      "16530/16530 [==============================] - 3s 172us/sample - loss: 6.3542e-05 - mean_absolute_error: 0.0055\n",
      "Epoch 27/50\n",
      "16530/16530 [==============================] - 3s 175us/sample - loss: 4.6264e-05 - mean_absolute_error: 0.0044\n",
      "Epoch 28/50\n",
      "16530/16530 [==============================] - 3s 173us/sample - loss: 7.3039e-05 - mean_absolute_error: 0.0056\n",
      "Epoch 29/50\n",
      "16530/16530 [==============================] - 3s 197us/sample - loss: 3.5088e-05 - mean_absolute_error: 0.0037\n",
      "Epoch 30/50\n",
      "16530/16530 [==============================] - 3s 190us/sample - loss: 5.0200e-05 - mean_absolute_error: 0.0047\n",
      "Epoch 31/50\n",
      "16530/16530 [==============================] - 3s 187us/sample - loss: 3.7422e-05 - mean_absolute_error: 0.0039s - loss: 3.7822e-05 - mean_absolute_error:\n",
      "Epoch 32/50\n",
      "16530/16530 [==============================] - 3s 188us/sample - loss: 7.3028e-05 - mean_absolute_error: 0.0054\n",
      "Epoch 33/50\n",
      "16530/16530 [==============================] - 3s 178us/sample - loss: 3.3184e-05 - mean_absolute_error: 0.0039\n",
      "Epoch 34/50\n",
      "16530/16530 [==============================] - 3s 180us/sample - loss: 3.2220e-05 - mean_absolute_error: 0.0038\n",
      "Epoch 35/50\n",
      "16530/16530 [==============================] - 3s 191us/sample - loss: 5.4856e-05 - mean_absolute_error: 0.0049\n",
      "Epoch 36/50\n",
      "16530/16530 [==============================] - 3s 197us/sample - loss: 3.9071e-05 - mean_absolute_error: 0.0042\n",
      "Epoch 37/50\n",
      "16530/16530 [==============================] - 3s 196us/sample - loss: 3.5382e-05 - mean_absolute_error: 0.0040\n",
      "Epoch 38/50\n",
      "16530/16530 [==============================] - 3s 194us/sample - loss: 4.7748e-05 - mean_absolute_error: 0.0044\n",
      "Epoch 39/50\n",
      "16530/16530 [==============================] - 4s 214us/sample - loss: 2.3479e-05 - mean_absolute_error: 0.0032\n",
      "Epoch 40/50\n",
      "16530/16530 [==============================] - 4s 227us/sample - loss: 2.6103e-05 - mean_absolute_error: 0.0034s - loss: 2.3063e-05 - mean_\n",
      "Epoch 41/50\n",
      "16530/16530 [==============================] - 4s 231us/sample - loss: 3.9386e-05 - mean_absolute_error: 0.0041\n",
      "Epoch 42/50\n",
      "16530/16530 [==============================] - 4s 231us/sample - loss: 3.9104e-05 - mean_absolute_error: 0.0042\n",
      "Epoch 43/50\n",
      "16530/16530 [==============================] - 4s 220us/sample - loss: 3.3096e-05 - mean_absolute_error: 0.0037\n",
      "Epoch 44/50\n",
      "16530/16530 [==============================] - 3s 207us/sample - loss: 3.5031e-05 - mean_absolute_error: 0.0037\n",
      "Epoch 45/50\n",
      "16530/16530 [==============================] - 3s 202us/sample - loss: 3.1126e-05 - mean_absolute_error: 0.0036\n",
      "Epoch 46/50\n",
      "16530/16530 [==============================] - 3s 187us/sample - loss: 1.6178e-05 - mean_absolute_error: 0.0026\n",
      "Epoch 47/50\n",
      "16530/16530 [==============================] - 3s 185us/sample - loss: 5.5246e-05 - mean_absolute_error: 0.0045\n",
      "Epoch 48/50\n",
      "16530/16530 [==============================] - 3s 192us/sample - loss: 2.4096e-05 - mean_absolute_error: 0.0033\n",
      "Epoch 49/50\n",
      "16530/16530 [==============================] - 3s 185us/sample - loss: 1.8082e-05 - mean_absolute_error: 0.0028s - loss: 1.7449e-05 - mean_absolut\n",
      "Epoch 50/50\n",
      "16530/16530 [==============================] - 3s 179us/sample - loss: 2.3801e-05 - mean_absolute_error: 0.0033\n",
      "base vs true: 54.07\n",
      "pred vs true: 78.22\n"
     ]
    }
   ],
   "source": [
    "# model parameters\n",
    "n_steps_in = 10   # no. of timesteps in the past (for training)\n",
    "n_steps_out = 1   # no. of timesteps in future (for prediction)\n",
    "opt = 'adam'      # optimizer function\n",
    "act = 'tanh'      # activation function\n",
    "unit = 100\n",
    "batch = 64\n",
    "epoc = 50\n",
    "w = 7             # window size for smoothing the input data\n",
    "t_size = 90       # size of the test dataset\n",
    "\n",
    "\n",
    "cols = ['Close', 'Volume', 'min-max', 'open-close', 'interest_rate']  # to keep record of available features!\n",
    "model = {}\n",
    "y_pred = {}\n",
    "i = 0\n",
    "for w in [1]:\n",
    "    i += 1\n",
    "    # select the input dataset\n",
    "    \n",
    "    df = df[['Close']]\n",
    "    \n",
    "    df_smooth = df.rolling(window=7).mean().dropna()\n",
    "    data = df_smooth\n",
    "\n",
    "    # train-test splitting\n",
    "    train_data = data[:-t_size].values\n",
    "    test_data = data[-t_size:].values\n",
    "    \n",
    "#     scaler = MinMaxScaler()\n",
    "    scaler = StandardScaler()\n",
    "    train = scaler.fit_transform(train_data)\n",
    "\n",
    "    # convert into input/output\n",
    "    X, y = split_sequences(train, n_steps_in, n_steps_out)\n",
    "    n_features = X.shape[2]\n",
    "    \n",
    "    # define model\n",
    "    clear_session()\n",
    "    model[i] = Sequential()\n",
    "    model[i].add(LSTM(unit, activation=act, input_shape=(n_steps_in, n_features)))\n",
    "    model[i].add(RepeatVector(n_steps_out))\n",
    "    model[i].add(LSTM(unit, activation=act, return_sequences=True))\n",
    "    model[i].add(TimeDistributed(Dense(n_features)))\n",
    "    model[i].compile(optimizer=opt, loss='mse', metrics=[metrics.mae])\n",
    "\n",
    "    # fit model\n",
    "    model[i].fit(X, y, batch_size=batch, epochs=epoc, verbose=1)\n",
    "\n",
    "    # scale the whole timeseries data\n",
    "    total_data = data.values\n",
    "    total_data = scaler.transform(total_data)\n",
    "\n",
    "    # convert into input/output\n",
    "    test_size = len(test_data)\n",
    "    start_index_test = -(test_size + n_steps_in + n_steps_out - 1)\n",
    "    X_test, y_test = split_sequences(total_data[start_index_test: ], n_steps_in, n_steps_out)\n",
    "\n",
    "    y_true_smooth = test_data\n",
    "    y_true = df[-t_size:].values\n",
    "\n",
    "    # base pred\n",
    "    y_base_smooth = data.values[-t_size-1:-1]\n",
    "    y_base_true = df.values[-t_size-1:-1]\n",
    "    \n",
    "    # model predict\n",
    "    y_pred[i] = model[i].predict(X_test)\n",
    "    for j in range(n_steps_out):\n",
    "        y_pred[i][:, j, :] = scaler.inverse_transform(y_pred[i][:, j, :])\n",
    "\n",
    "    # calculate error\n",
    "    from sklearn.metrics import mean_squared_error\n",
    "    RMSE = round(np.sqrt(mean_squared_error(y_true[:, 0], y_base_true[:, 0])), 2)\n",
    "    print('base vs true:', RMSE)\n",
    "    RMSE = round(np.sqrt(mean_squared_error(y_true[:, 0], y_pred[i][:, 0, 0])), 2)\n",
    "    print('pred vs true:', RMSE)"
   ]
  },
  {
   "cell_type": "code",
   "execution_count": 35,
   "metadata": {},
   "outputs": [
    {
     "name": "stdout",
     "output_type": "stream",
     "text": [
      "base vs true: 54.07\n",
      "pred vs true: 78.22 \n",
      "\n"
     ]
    }
   ],
   "source": [
    "f = 0  # f is the feature index\n",
    "for m in model.keys():  # m is the model no.\n",
    "    RMSE = round(np.sqrt(mean_squared_error(y_true[:, f], y_base_true[:, f])), 2)\n",
    "    print('base vs true:', RMSE)\n",
    "    RMSE = round(np.sqrt(mean_squared_error(y_true[:, f], y_pred[m][:, 0, f])), 2)\n",
    "    print('pred vs true:', RMSE, '\\n')"
   ]
  },
  {
   "cell_type": "code",
   "execution_count": 36,
   "metadata": {},
   "outputs": [],
   "source": [
    "def long_pred(index, model):\n",
    "    ar = np.empty((y_true.shape[0]-test_size+index,))\n",
    "    ar[:] = np.NaN\n",
    "    return np.concatenate((ar, y_pred[model][index, :, 0]))\n",
    "\n",
    "p = {}\n",
    "i = 0\n",
    "for indx in range(10, 90, 10):\n",
    "    for m in range(1, len(model)+1):\n",
    "        i += 1\n",
    "        p[(indx, m)] = long_pred(indx, m)"
   ]
  },
  {
   "cell_type": "code",
   "execution_count": 37,
   "metadata": {},
   "outputs": [
    {
     "data": {
      "image/png": "[encoded data removed]",
      "text/plain": [
       "<Figure size 1296x432 with 1 Axes>"
      ]
     },
     "metadata": {
      "needs_background": "light"
     },
     "output_type": "display_data"
    }
   ],
   "source": [
    "for m in [1]:   # m is the model number\n",
    "    plt.figure(figsize=(18, 6))\n",
    "    plt.plot(y_true[:, 0], color='blue', label='Real Price')\n",
    "    plt.plot(y_true_smooth[:, 0], color='lightskyblue', label='Real Price-smooth')\n",
    "    plt.plot(y_pred[m][:, 0, 0], color='red', label='Predicted Price')\n",
    "    for i in list(range(10, 90, 10)):\n",
    "        plt.plot(p[(i, m)], color='green')\n",
    "    plt.xlabel('No of Days')\n",
    "    plt.ylabel('Stock Price')\n",
    "    plt.legend()\n",
    "    plt.show()"
   ]
  },
  {
   "cell_type": "code",
   "execution_count": 33,
   "metadata": {},
   "outputs": [
    {
     "name": "stdout",
     "output_type": "stream",
     "text": [
      "Model dumped!\n"
     ]
    }
   ],
   "source": [
    "# Save model\n",
    "import joblib\n",
    "from tensorflow.keras.models import save_model\n",
    "\n",
    "model_no = 1\n",
    "model[model_no].save(\"updated_model_1dPred.h5\")\n",
    "print(\"Model dumped!\")"
   ]
  },
  {
   "cell_type": "code",
   "execution_count": null,
   "metadata": {},
   "outputs": [],
   "source": []
  }
 ],
 "metadata": {
  "kernelspec": {
   "display_name": "tensorflow",
   "language": "python",
   "name": "tensorflow"
  },
  "language_info": {
   "codemirror_mode": {
    "name": "ipython",
    "version": 3
   },
   "file_extension": ".py",
   "mimetype": "text/x-python",
   "name": "python",
   "nbconvert_exporter": "python",
   "pygments_lexer": "ipython3",
   "version": "3.7.6"
  }
 },
 "nbformat": 4,
 "nbformat_minor": 4
}
